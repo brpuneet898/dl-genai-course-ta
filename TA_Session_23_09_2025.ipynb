{
  "cells": [
    {
      "cell_type": "code",
      "source": [
        "import pandas as pd"
      ],
      "metadata": {
        "id": "IZjBRRrlQkcr"
      },
      "execution_count": 1,
      "outputs": []
    },
    {
      "cell_type": "code",
      "source": [
        "a = [1, 7, 2]\n",
        "var = pd.Series(a)\n",
        "print(var)\n",
        "print(type(var))\n",
        "print(var[2])"
      ],
      "metadata": {
        "colab": {
          "base_uri": "https://localhost:8080/"
        },
        "id": "1fijrn_8QzX2",
        "outputId": "77ede9c1-876d-476c-d24e-707f073c6ffa"
      },
      "execution_count": 5,
      "outputs": [
        {
          "output_type": "stream",
          "name": "stdout",
          "text": [
            "0    1\n",
            "1    7\n",
            "2    2\n",
            "dtype: int64\n",
            "<class 'pandas.core.series.Series'>\n",
            "2\n"
          ]
        }
      ]
    },
    {
      "cell_type": "code",
      "source": [
        "var1 = pd.Series(a, index = [\"x\", \"y\", \"z\"])\n",
        "print(var1)\n",
        "print(var1[\"y\"])"
      ],
      "metadata": {
        "colab": {
          "base_uri": "https://localhost:8080/"
        },
        "id": "V_cNI3L6RxvB",
        "outputId": "d82f027e-ef1a-4ff8-98de-59b5d728919c"
      },
      "execution_count": 6,
      "outputs": [
        {
          "output_type": "stream",
          "name": "stdout",
          "text": [
            "x    1\n",
            "y    7\n",
            "z    2\n",
            "dtype: int64\n",
            "7\n"
          ]
        }
      ]
    },
    {
      "cell_type": "code",
      "source": [
        "y = {\"x\": 1, \"y\": 7, \"z\": 2}\n",
        "\n",
        "var2 = pd.Series(y)\n",
        "print(var2)"
      ],
      "metadata": {
        "colab": {
          "base_uri": "https://localhost:8080/"
        },
        "id": "Oxz-s15uSIun",
        "outputId": "48786b74-6902-419a-9f62-a77b0d06bd60"
      },
      "execution_count": 7,
      "outputs": [
        {
          "output_type": "stream",
          "name": "stdout",
          "text": [
            "x    1\n",
            "y    7\n",
            "z    2\n",
            "dtype: int64\n"
          ]
        }
      ]
    },
    {
      "cell_type": "code",
      "source": [
        "var3 = {\n",
        "    \"cal\": [100,200,300],\n",
        "    \"dura\": [2, 4, 6]\n",
        "}\n",
        "\n",
        "df = pd.DataFrame(var3)\n",
        "print(df)"
      ],
      "metadata": {
        "colab": {
          "base_uri": "https://localhost:8080/"
        },
        "id": "SvHf2M72TDTH",
        "outputId": "df95d335-a10f-4e8a-e222-30b3af5f082b"
      },
      "execution_count": 9,
      "outputs": [
        {
          "output_type": "stream",
          "name": "stdout",
          "text": [
            "   cal  dura\n",
            "0  100     2\n",
            "1  200     4\n",
            "2  300     6\n"
          ]
        }
      ]
    },
    {
      "cell_type": "code",
      "source": [
        "print(df.loc[[0, 1]])\n",
        "print(type(df.loc[[0, 1]]))"
      ],
      "metadata": {
        "colab": {
          "base_uri": "https://localhost:8080/"
        },
        "id": "v693Ji9rT1j1",
        "outputId": "4f678574-d9d4-42f2-bda9-f0a25433b39f"
      },
      "execution_count": 16,
      "outputs": [
        {
          "output_type": "stream",
          "name": "stdout",
          "text": [
            "   cal  dura\n",
            "0  100     2\n",
            "1  200     4\n",
            "<class 'pandas.core.frame.DataFrame'>\n"
          ]
        }
      ]
    },
    {
      "cell_type": "code",
      "source": [
        "df = pd.read_csv('practice.csv')\n",
        "print(df)"
      ],
      "metadata": {
        "colab": {
          "base_uri": "https://localhost:8080/"
        },
        "id": "6iNpCBWjUe6j",
        "outputId": "35d94b87-9813-43cd-af61-1a31b96dc036"
      },
      "execution_count": 17,
      "outputs": [
        {
          "output_type": "stream",
          "name": "stdout",
          "text": [
            "   index  class  marks\n",
            "0      1      5     80\n",
            "1      2      6     90\n",
            "2      3      7     20\n",
            "3      4      8    100\n",
            "4      5      9     20\n"
          ]
        }
      ]
    },
    {
      "cell_type": "code",
      "source": [
        "import torch"
      ],
      "metadata": {
        "id": "KFf_mJRUVbkx"
      },
      "execution_count": 18,
      "outputs": []
    },
    {
      "cell_type": "code",
      "source": [
        "torch.__version__"
      ],
      "metadata": {
        "colab": {
          "base_uri": "https://localhost:8080/",
          "height": 36
        },
        "id": "oX-nNFDBV2KS",
        "outputId": "9d925292-ba54-4412-9eb1-a10768c6751e"
      },
      "execution_count": 19,
      "outputs": [
        {
          "output_type": "execute_result",
          "data": {
            "text/plain": [
              "'2.8.0+cu126'"
            ],
            "application/vnd.google.colaboratory.intrinsic+json": {
              "type": "string"
            }
          },
          "metadata": {},
          "execution_count": 19
        }
      ]
    },
    {
      "cell_type": "code",
      "source": [
        "a = torch.tensor(7)\n",
        "\n",
        "print(a)\n",
        "print(a.item())\n",
        "print(a.dtype)\n",
        "print(a.shape)\n",
        "print(a.size())"
      ],
      "metadata": {
        "colab": {
          "base_uri": "https://localhost:8080/"
        },
        "id": "MVZbxID7WWvK",
        "outputId": "0d986385-d2f8-4454-8b6c-728e1bcbef78"
      },
      "execution_count": 29,
      "outputs": [
        {
          "output_type": "stream",
          "name": "stdout",
          "text": [
            "tensor(7)\n",
            "7\n",
            "torch.int64\n",
            "torch.Size([])\n",
            "torch.Size([])\n"
          ]
        }
      ]
    },
    {
      "cell_type": "code",
      "source": [
        "dime = a.ndim\n",
        "print(dime)"
      ],
      "metadata": {
        "colab": {
          "base_uri": "https://localhost:8080/"
        },
        "id": "SWWBOdzXXMH2",
        "outputId": "eb649c12-5428-48a4-aa98-5708a0108f89"
      },
      "execution_count": 30,
      "outputs": [
        {
          "output_type": "stream",
          "name": "stdout",
          "text": [
            "0\n"
          ]
        }
      ]
    },
    {
      "cell_type": "code",
      "source": [
        "a = torch.tensor([1.0, 2.0, 3.0])\n",
        "\n",
        "# print(a)\n",
        "# # print(a.item())\n",
        "# print(a.dtype)\n",
        "# print(a.shape)\n",
        "# print(a.size())\n",
        "# print(a.ndim)\n",
        "# print(a[0].item())\n",
        "print(torch.sum(a).item())\n",
        "print(torch.mean(a).item())\n",
        "print(torch.norm(a).item())\n",
        "print(type(torch.norm(a)))"
      ],
      "metadata": {
        "colab": {
          "base_uri": "https://localhost:8080/"
        },
        "id": "ttRsuCl0XXsV",
        "outputId": "dd89c205-2ea6-4985-bd6e-3afbd807a548"
      },
      "execution_count": 44,
      "outputs": [
        {
          "output_type": "stream",
          "name": "stdout",
          "text": [
            "6.0\n",
            "2.0\n",
            "3.7416574954986572\n",
            "<class 'torch.Tensor'>\n"
          ]
        }
      ]
    },
    {
      "cell_type": "code",
      "source": [
        "a = torch.tensor([[[7,8,9], [0,1,2]], [[1,2,3], [4,5,6]]])\n",
        "\n",
        "print(a)\n",
        "# print(a.item())\n",
        "print(a.dtype)\n",
        "print(a.shape)\n",
        "print(a.size())\n",
        "print(a.ndim)\n",
        "# print(a[0].item())"
      ],
      "metadata": {
        "colab": {
          "base_uri": "https://localhost:8080/"
        },
        "id": "ukmUBoVhZZoZ",
        "outputId": "f27dd4b8-62d5-469f-ff39-856cd4662c55"
      },
      "execution_count": 49,
      "outputs": [
        {
          "output_type": "stream",
          "name": "stdout",
          "text": [
            "tensor([[[7, 8, 9],\n",
            "         [0, 1, 2]],\n",
            "\n",
            "        [[1, 2, 3],\n",
            "         [4, 5, 6]]])\n",
            "torch.int64\n",
            "torch.Size([2, 2, 3])\n",
            "torch.Size([2, 2, 3])\n",
            "3\n"
          ]
        }
      ]
    },
    {
      "cell_type": "code",
      "source": [
        "zero = torch.zeros(3, 4)\n",
        "print(zero)\n",
        "print(zero.shape)\n",
        "print(zero.dtype)\n",
        "print(zero.device)\n",
        "print(zero.numel()) # it returns the total number of elements present in the current tensor object.\n",
        "\n",
        "print(zero.element_size() * zero.numel()) # in bytes.\n",
        "\n",
        "print(torch.sum(zero).item())\n",
        "print(torch.std(zero).item())"
      ],
      "metadata": {
        "colab": {
          "base_uri": "https://localhost:8080/"
        },
        "id": "vsCOVGnab7H6",
        "outputId": "042ce0be-f373-4ee7-e1de-fbb9043f5259"
      },
      "execution_count": 56,
      "outputs": [
        {
          "output_type": "stream",
          "name": "stdout",
          "text": [
            "tensor([[0., 0., 0., 0.],\n",
            "        [0., 0., 0., 0.],\n",
            "        [0., 0., 0., 0.]])\n",
            "torch.Size([3, 4])\n",
            "torch.float32\n",
            "cpu\n",
            "12\n",
            "48\n",
            "0.0\n",
            "0.0\n"
          ]
        }
      ]
    },
    {
      "cell_type": "code",
      "source": [
        "one = torch.ones(size=(3,4), dtype=torch.int64)\n",
        "print(one)\n",
        "print(one.shape)\n",
        "print(one.dtype)\n",
        "print(one.device)\n",
        "print(one.numel()) # it returns the total number of elements present in the current tensor object.\n",
        "\n",
        "print(one.element_size() * one.numel()) # in bytes."
      ],
      "metadata": {
        "colab": {
          "base_uri": "https://localhost:8080/"
        },
        "id": "B_qxmVaIdfk9",
        "outputId": "f05ff51c-0eab-4a81-86ec-21889f62d022"
      },
      "execution_count": 59,
      "outputs": [
        {
          "output_type": "stream",
          "name": "stdout",
          "text": [
            "tensor([[1, 1, 1, 1],\n",
            "        [1, 1, 1, 1],\n",
            "        [1, 1, 1, 1]])\n",
            "torch.Size([3, 4])\n",
            "torch.int64\n",
            "cpu\n",
            "12\n",
            "96\n"
          ]
        }
      ]
    },
    {
      "cell_type": "code",
      "source": [
        "random = torch.rand(3,4)\n",
        "\n",
        "print(random)"
      ],
      "metadata": {
        "colab": {
          "base_uri": "https://localhost:8080/"
        },
        "id": "RBmb2acufd5y",
        "outputId": "5ae8330a-dc85-4309-82cc-6558723cffbc"
      },
      "execution_count": 67,
      "outputs": [
        {
          "output_type": "stream",
          "name": "stdout",
          "text": [
            "tensor([[0.2725, 0.8468, 0.7708, 0.3425],\n",
            "        [0.2986, 0.2581, 0.8096, 0.4471],\n",
            "        [0.4310, 0.3731, 0.9017, 0.5347]])\n"
          ]
        }
      ]
    },
    {
      "cell_type": "code",
      "source": [
        "RANDOM_SEED = 42\n",
        "torch.manual_seed(RANDOM_SEED)\n",
        "\n",
        "random = torch.rand(3,4)\n",
        "\n",
        "print(random)"
      ],
      "metadata": {
        "colab": {
          "base_uri": "https://localhost:8080/"
        },
        "id": "nRknupYxgYg7",
        "outputId": "2e30d8f5-1ed3-4fcb-98ae-a024b9e37efa"
      },
      "execution_count": 84,
      "outputs": [
        {
          "output_type": "stream",
          "name": "stdout",
          "text": [
            "tensor([[0.8823, 0.9150, 0.3829, 0.9593],\n",
            "        [0.3904, 0.6009, 0.2566, 0.7936],\n",
            "        [0.9408, 0.1332, 0.9346, 0.5936]])\n"
          ]
        }
      ]
    },
    {
      "cell_type": "code",
      "source": [
        "var = torch.tensor([1,2,3])\n",
        "var * 10"
      ],
      "metadata": {
        "colab": {
          "base_uri": "https://localhost:8080/"
        },
        "id": "klrqds-Hhfus",
        "outputId": "a6c3a5b6-65dd-44dd-a41b-efc5cfa5ceda"
      },
      "execution_count": 87,
      "outputs": [
        {
          "output_type": "execute_result",
          "data": {
            "text/plain": [
              "tensor([10, 20, 30])"
            ]
          },
          "metadata": {},
          "execution_count": 87
        }
      ]
    },
    {
      "cell_type": "code",
      "source": [
        "print(var * var)\n",
        "\n",
        "## * in tensors means that we are doing an element-wise multiplication.\n",
        "\n",
        "# [1, 2, 3] * [1, 2, 3]\n",
        "# [1*1, 2*2, 3*3]\n",
        "# [1, 4, 9]"
      ],
      "metadata": {
        "colab": {
          "base_uri": "https://localhost:8080/"
        },
        "id": "3vplfCtDhw4t",
        "outputId": "8541e7d1-e700-4c6f-ebe8-5e22e3b06424"
      },
      "execution_count": 90,
      "outputs": [
        {
          "output_type": "stream",
          "name": "stdout",
          "text": [
            "tensor([1, 4, 9])\n"
          ]
        }
      ]
    },
    {
      "cell_type": "code",
      "source": [
        "print(var)\n",
        "print(var.shape)\n",
        "\n",
        "matrix_res = torch.matmul(var, var)\n",
        "print(matrix_res)\n",
        "print(matrix_res.shape)"
      ],
      "metadata": {
        "colab": {
          "base_uri": "https://localhost:8080/"
        },
        "id": "UaF4MCwmiZam",
        "outputId": "8bd0627d-cb63-472e-feff-499fd811d533"
      },
      "execution_count": 91,
      "outputs": [
        {
          "output_type": "stream",
          "name": "stdout",
          "text": [
            "tensor([1, 2, 3])\n",
            "torch.Size([3])\n",
            "tensor(14)\n",
            "torch.Size([])\n"
          ]
        }
      ]
    },
    {
      "cell_type": "code",
      "source": [
        "var @ var"
      ],
      "metadata": {
        "colab": {
          "base_uri": "https://localhost:8080/"
        },
        "id": "gOLeCMdgjM_V",
        "outputId": "3c9181cd-c9df-4f82-ace6-3832874da9a8"
      },
      "execution_count": 92,
      "outputs": [
        {
          "output_type": "execute_result",
          "data": {
            "text/plain": [
              "tensor(14)"
            ]
          },
          "metadata": {},
          "execution_count": 92
        }
      ]
    },
    {
      "cell_type": "code",
      "source": [
        "import torch\n",
        "\n",
        "cude_avail = torch.cuda.is_available()\n",
        "\n",
        "if cude_avail:\n",
        "  print(torch.cuda.get_device_name(0))\n",
        "  print(dir(torch.cuda))\n",
        "  print(torch.cuda.current_device())\n",
        "  print(torch.cuda.get_device_properties(0))\n",
        "else:\n",
        "  print(\"GPU not available.\")"
      ],
      "metadata": {
        "colab": {
          "base_uri": "https://localhost:8080/"
        },
        "id": "o3DTPHguki6b",
        "outputId": "35f77f17-4369-4269-d2de-1e4fefeed521"
      },
      "execution_count": 2,
      "outputs": [
        {
          "output_type": "stream",
          "name": "stdout",
          "text": [
            "GPU not available.\n"
          ]
        }
      ]
    },
    {
      "cell_type": "code",
      "source": [
        "# 3 errors that are common, please don't make them -\n",
        "\n",
        "# 1. the matrix sizes should be compatible with each other, otherwise you get a runtime error.\n",
        "# 2. the data types of the tensors should be same, if you want to perform any operations between them.\n",
        "# 3. if you are performing operations on two tensors which are present on two different devices like CPU and cuda, then again you will get a runtime error."
      ],
      "metadata": {
        "id": "UIXXBMJvn3T5"
      },
      "execution_count": null,
      "outputs": []
    }
  ],
  "metadata": {
    "colab": {
      "provenance": []
    },
    "kernelspec": {
      "display_name": "Python 3",
      "name": "python3"
    },
    "language_info": {
      "name": "python"
    }
  },
  "nbformat": 4,
  "nbformat_minor": 0
}