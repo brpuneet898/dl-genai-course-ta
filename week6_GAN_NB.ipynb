{
  "nbformat": 4,
  "nbformat_minor": 0,
  "metadata": {
    "colab": {
      "provenance": [],
      "gpuType": "T4"
    },
    "kernelspec": {
      "name": "python3",
      "display_name": "Python 3"
    },
    "language_info": {
      "name": "python"
    },
    "accelerator": "GPU"
  },
  "cells": [
    {
      "cell_type": "markdown",
      "source": [
        "# Importing Libraries"
      ],
      "metadata": {
        "id": "6FH6E8LLYOEy"
      }
    },
    {
      "cell_type": "code",
      "execution_count": 1,
      "metadata": {
        "colab": {
          "base_uri": "https://localhost:8080/"
        },
        "id": "ZlEimm1yYIKU",
        "outputId": "055f12e1-6db2-48f4-bd3f-e672d363036d"
      },
      "outputs": [
        {
          "output_type": "stream",
          "name": "stdout",
          "text": [
            "PyTorch Version: 2.8.0+cu126\n",
            "CUDA Available: True\n",
            "CUDA Version: 12.6\n",
            "GPU Device: Tesla T4\n"
          ]
        }
      ],
      "source": [
        "import torch\n",
        "import torch.nn as nn\n",
        "import torchvision\n",
        "import torchvision.transforms as transforms\n",
        "import os\n",
        "import matplotlib.pyplot as plt\n",
        "\n",
        "print(f\"PyTorch Version: {torch.__version__}\")\n",
        "print(f\"CUDA Available: {torch.cuda.is_available()}\")\n",
        "if torch.cuda.is_available():\n",
        "    print(f\"CUDA Version: {torch.version.cuda}\")\n",
        "    print(f\"GPU Device: {torch.cuda.get_device_name(0)}\")"
      ]
    },
    {
      "cell_type": "code",
      "source": [
        "sample_dir = 'samples'\n",
        "if not os.path.exists(sample_dir):\n",
        "    os.makedirs(sample_dir)\n",
        "    print(f\"Created directory: {sample_dir}\")"
      ],
      "metadata": {
        "colab": {
          "base_uri": "https://localhost:8080/"
        },
        "id": "AYmY8La5YaV6",
        "outputId": "78797803-3429-47b1-ee24-d60f0cbbed43"
      },
      "execution_count": 2,
      "outputs": [
        {
          "output_type": "stream",
          "name": "stdout",
          "text": [
            "Created directory: samples\n"
          ]
        }
      ]
    },
    {
      "cell_type": "markdown",
      "source": [
        "# HPT Config"
      ],
      "metadata": {
        "id": "77NBiRaLYfS-"
      }
    },
    {
      "cell_type": "code",
      "source": [
        "latent_size = 64\n",
        "hidden_size = 256\n",
        "image_size = 784\n",
        "num_epochs = 100\n",
        "batch_size = 100\n",
        "\n",
        "print(\"=\" * 70)\n",
        "print(\"GAN HYPERPARAMETER CONFIGURATION\")\n",
        "print(\"=\" * 70)\n",
        "print(f\"Latent Space Dimension:    {latent_size}\")\n",
        "print(f\"Hidden Layer Size:         {hidden_size}\")\n",
        "print(f\"Image Size (flattened):    {image_size} ({int(image_size**0.5)}×{int(image_size**0.5)})\")\n",
        "print(f\"Training Epochs:           {num_epochs}\")\n",
        "print(f\"Batch Size:                {batch_size}\")\n",
        "print(\"=\" * 70)"
      ],
      "metadata": {
        "colab": {
          "base_uri": "https://localhost:8080/"
        },
        "id": "zg0FvqNwYg9Z",
        "outputId": "1056e8e1-78bb-4915-e146-fa60193bfce7"
      },
      "execution_count": 3,
      "outputs": [
        {
          "output_type": "stream",
          "name": "stdout",
          "text": [
            "======================================================================\n",
            "GAN HYPERPARAMETER CONFIGURATION\n",
            "======================================================================\n",
            "Latent Space Dimension:    64\n",
            "Hidden Layer Size:         256\n",
            "Image Size (flattened):    784 (28×28)\n",
            "Training Epochs:           100\n",
            "Batch Size:                100\n",
            "======================================================================\n"
          ]
        }
      ]
    },
    {
      "cell_type": "code",
      "source": [
        "device = torch.device('cuda' if torch.cuda.is_available() else 'cpu')\n",
        "print(f\"\\nCompute Device: {device}\")\n",
        "if device.type == 'cuda':\n",
        "    print(f\"GPU Memory Available: {torch.cuda.get_device_properties(0).total_memory / 1e9:.2f} GB\")"
      ],
      "metadata": {
        "colab": {
          "base_uri": "https://localhost:8080/"
        },
        "id": "20sv8kx5Yonq",
        "outputId": "ff359cd6-2f02-4a32-af5f-2d5eba94e033"
      },
      "execution_count": 4,
      "outputs": [
        {
          "output_type": "stream",
          "name": "stdout",
          "text": [
            "\n",
            "Compute Device: cuda\n",
            "GPU Memory Available: 15.83 GB\n"
          ]
        }
      ]
    },
    {
      "cell_type": "markdown",
      "source": [
        "# Data Preparation and Loading"
      ],
      "metadata": {
        "id": "UA8zT1MJYqdQ"
      }
    },
    {
      "cell_type": "code",
      "source": [
        "def load_mnist_data(batch_size):\n",
        "    transform = transforms.Compose([\n",
        "        transforms.ToTensor(),\n",
        "        transforms.Normalize(\n",
        "            mean=[0.5],\n",
        "            std=[0.5]\n",
        "        )\n",
        "    ])\n",
        "\n",
        "    mnist = torchvision.datasets.FashionMNIST(\n",
        "        root='./data/',\n",
        "        train=True,\n",
        "        transform=transform,\n",
        "        download=True\n",
        "    )\n",
        "\n",
        "    data_loader = torch.utils.data.DataLoader(\n",
        "        dataset=mnist,\n",
        "        batch_size=batch_size,\n",
        "        shuffle=True\n",
        "    )\n",
        "\n",
        "    print(f\"\\nDataset loaded successfully!\")\n",
        "    print(f\"Total training images: {len(mnist)}\")\n",
        "    print(f\"Batches per epoch: {len(data_loader)}\")\n",
        "    print(f\"Image shape: (1, 28, 28)\")\n",
        "\n",
        "    return data_loader"
      ],
      "metadata": {
        "id": "GprJwyiEYtDG"
      },
      "execution_count": 5,
      "outputs": []
    },
    {
      "cell_type": "code",
      "source": [
        "data_loader = load_mnist_data(batch_size)"
      ],
      "metadata": {
        "colab": {
          "base_uri": "https://localhost:8080/"
        },
        "id": "tMrERoQuY2FR",
        "outputId": "837d500d-966a-4e88-8699-a3ab2f0c53e4"
      },
      "execution_count": 6,
      "outputs": [
        {
          "output_type": "stream",
          "name": "stderr",
          "text": [
            "100%|██████████| 26.4M/26.4M [00:03<00:00, 7.53MB/s]\n",
            "100%|██████████| 29.5k/29.5k [00:00<00:00, 136kB/s]\n",
            "100%|██████████| 4.42M/4.42M [00:01<00:00, 2.54MB/s]\n",
            "100%|██████████| 5.15k/5.15k [00:00<00:00, 12.3MB/s]"
          ]
        },
        {
          "output_type": "stream",
          "name": "stdout",
          "text": [
            "\n",
            "Dataset loaded successfully!\n",
            "Total training images: 60000\n",
            "Batches per epoch: 600\n",
            "Image shape: (1, 28, 28)\n"
          ]
        },
        {
          "output_type": "stream",
          "name": "stderr",
          "text": [
            "\n"
          ]
        }
      ]
    },
    {
      "cell_type": "markdown",
      "source": [
        "# Model Architecture Design"
      ],
      "metadata": {
        "id": "4pppEo5MY-hi"
      }
    },
    {
      "cell_type": "code",
      "source": [
        "class Generator(nn.Module):\n",
        "    def __init__(self, latent_size, hidden_size, image_size):\n",
        "        super(Generator, self).__init__()\n",
        "        self.model = nn.Sequential(\n",
        "            nn.Linear(latent_size, hidden_size),\n",
        "            nn.LeakyReLU(0.2),\n",
        "            nn.Linear(hidden_size, hidden_size),\n",
        "            nn.LeakyReLU(0.2),\n",
        "            nn.Linear(hidden_size, image_size),\n",
        "            nn.Tanh()\n",
        "        )\n",
        "\n",
        "    def forward(self, z):\n",
        "        return self.model(z)\n",
        "\n",
        "generator = Generator(latent_size, hidden_size, image_size).to(device)\n",
        "\n",
        "print(\"\\n\" + \"=\" * 70)\n",
        "print(\"GENERATOR ARCHITECTURE\")\n",
        "print(\"=\" * 70)\n",
        "print(generator)\n",
        "print(\"=\" * 70)\n",
        "print(f\"Total Parameters: {sum(p.numel() for p in generator.parameters()):,}\")\n",
        "print(\"=\" * 70)"
      ],
      "metadata": {
        "colab": {
          "base_uri": "https://localhost:8080/"
        },
        "id": "MiDt6Lo2ZBJ1",
        "outputId": "9ceb35f4-e798-4f19-fa64-72aeb6dcece7"
      },
      "execution_count": 7,
      "outputs": [
        {
          "output_type": "stream",
          "name": "stdout",
          "text": [
            "\n",
            "======================================================================\n",
            "GENERATOR ARCHITECTURE\n",
            "======================================================================\n",
            "Generator(\n",
            "  (model): Sequential(\n",
            "    (0): Linear(in_features=64, out_features=256, bias=True)\n",
            "    (1): LeakyReLU(negative_slope=0.2)\n",
            "    (2): Linear(in_features=256, out_features=256, bias=True)\n",
            "    (3): LeakyReLU(negative_slope=0.2)\n",
            "    (4): Linear(in_features=256, out_features=784, bias=True)\n",
            "    (5): Tanh()\n",
            "  )\n",
            ")\n",
            "======================================================================\n",
            "Total Parameters: 283,920\n",
            "======================================================================\n"
          ]
        }
      ]
    },
    {
      "cell_type": "code",
      "source": [
        "test_noise = torch.randn(1, latent_size).to(device)\n",
        "test_output = generator(test_noise)\n",
        "print(f\"\\nGenerator Test:\")\n",
        "print(f\"Input shape:  {test_noise.shape}\")\n",
        "print(f\"Output shape: {test_output.shape}\")\n",
        "print(f\"Output range: [{test_output.min().item():.3f}, {test_output.max().item():.3f}]\")"
      ],
      "metadata": {
        "colab": {
          "base_uri": "https://localhost:8080/"
        },
        "id": "F_Xhr5MPZI__",
        "outputId": "257978c0-76fd-47cc-91be-248778d1dece"
      },
      "execution_count": 8,
      "outputs": [
        {
          "output_type": "stream",
          "name": "stdout",
          "text": [
            "\n",
            "Generator Test:\n",
            "Input shape:  torch.Size([1, 64])\n",
            "Output shape: torch.Size([1, 784])\n",
            "Output range: [-0.234, 0.211]\n"
          ]
        }
      ]
    },
    {
      "cell_type": "code",
      "source": [
        "class Discriminator(nn.Module):\n",
        "    def __init__(self, image_size, hidden_size):\n",
        "        super(Discriminator, self).__init__()\n",
        "        self.model = nn.Sequential(\n",
        "            nn.Linear(image_size, hidden_size),\n",
        "            nn.LeakyReLU(0.2),\n",
        "            nn.Linear(hidden_size, hidden_size),\n",
        "            nn.LeakyReLU(0.2),\n",
        "            nn.Linear(hidden_size, 1),\n",
        "            nn.Sigmoid()\n",
        "        )\n",
        "\n",
        "    def forward(self, x):\n",
        "        return self.model(x)\n",
        "\n",
        "discriminator = Discriminator(image_size, hidden_size).to(device)\n",
        "\n",
        "print(\"\\n\" + \"=\" * 70)\n",
        "print(\"DISCRIMINATOR ARCHITECTURE\")\n",
        "print(\"=\" * 70)\n",
        "print(discriminator)\n",
        "print(\"=\" * 70)\n",
        "print(f\"Total Parameters: {sum(p.numel() for p in discriminator.parameters()):,}\")\n",
        "print(\"=\" * 70)"
      ],
      "metadata": {
        "colab": {
          "base_uri": "https://localhost:8080/"
        },
        "id": "uym0b7wPZLzQ",
        "outputId": "fb5d1624-727d-4f71-b234-5a1776e3d49c"
      },
      "execution_count": 9,
      "outputs": [
        {
          "output_type": "stream",
          "name": "stdout",
          "text": [
            "\n",
            "======================================================================\n",
            "DISCRIMINATOR ARCHITECTURE\n",
            "======================================================================\n",
            "Discriminator(\n",
            "  (model): Sequential(\n",
            "    (0): Linear(in_features=784, out_features=256, bias=True)\n",
            "    (1): LeakyReLU(negative_slope=0.2)\n",
            "    (2): Linear(in_features=256, out_features=256, bias=True)\n",
            "    (3): LeakyReLU(negative_slope=0.2)\n",
            "    (4): Linear(in_features=256, out_features=1, bias=True)\n",
            "    (5): Sigmoid()\n",
            "  )\n",
            ")\n",
            "======================================================================\n",
            "Total Parameters: 267,009\n",
            "======================================================================\n"
          ]
        }
      ]
    },
    {
      "cell_type": "code",
      "source": [
        "test_image = torch.randn(1, image_size).to(device)\n",
        "test_classification = discriminator(test_image)\n",
        "print(f\"\\nDiscriminator Test:\")\n",
        "print(f\"Input shape:  {test_image.shape}\")\n",
        "print(f\"Output shape: {test_classification.shape}\")\n",
        "print(f\"Output value: {test_classification.item():.4f} (probability of being real)\")"
      ],
      "metadata": {
        "colab": {
          "base_uri": "https://localhost:8080/"
        },
        "id": "J65-RZuCZUPv",
        "outputId": "e3fc4e66-31f5-46ec-e9bf-aa8c79a95886"
      },
      "execution_count": 10,
      "outputs": [
        {
          "output_type": "stream",
          "name": "stdout",
          "text": [
            "\n",
            "Discriminator Test:\n",
            "Input shape:  torch.Size([1, 784])\n",
            "Output shape: torch.Size([1, 1])\n",
            "Output value: 0.5186 (probability of being real)\n"
          ]
        }
      ]
    },
    {
      "cell_type": "markdown",
      "source": [
        "# Training Configuration"
      ],
      "metadata": {
        "id": "V_S_ok_sZWEN"
      }
    },
    {
      "cell_type": "code",
      "source": [
        "criterion = nn.BCELoss()\n",
        "d_optimizer = torch.optim.Adam(discriminator.parameters(), lr=0.0002)\n",
        "g_optimizer = torch.optim.Adam(generator.parameters(), lr=0.0002)\n",
        "\n",
        "print(\"\\nOptimization Configuration:\")\n",
        "print(f\"Loss Function: Binary Cross-Entropy\")\n",
        "print(f\"Optimizer: Adam\")\n",
        "print(f\"Learning Rate: 0.0002\")\n",
        "print(f\"Separate optimizers for D and G\")"
      ],
      "metadata": {
        "colab": {
          "base_uri": "https://localhost:8080/"
        },
        "id": "t_VTviJDZZAG",
        "outputId": "9821f3e7-793e-4aac-bbad-d2135d856721"
      },
      "execution_count": 11,
      "outputs": [
        {
          "output_type": "stream",
          "name": "stdout",
          "text": [
            "\n",
            "Optimization Configuration:\n",
            "Loss Function: Binary Cross-Entropy\n",
            "Optimizer: Adam\n",
            "Learning Rate: 0.0002\n",
            "Separate optimizers for D and G\n"
          ]
        }
      ]
    },
    {
      "cell_type": "code",
      "source": [
        "def denorm(x):\n",
        "    out = (x + 1) / 2\n",
        "    return out.clamp(0, 1)\n",
        "\n",
        "\n",
        "def reset_grad():\n",
        "    d_optimizer.zero_grad()\n",
        "    g_optimizer.zero_grad()"
      ],
      "metadata": {
        "id": "bj0dkVgmZcgW"
      },
      "execution_count": 13,
      "outputs": []
    },
    {
      "cell_type": "markdown",
      "source": [
        "# Adversarial Training Loop"
      ],
      "metadata": {
        "id": "bJLfiGZCZjJQ"
      }
    },
    {
      "cell_type": "code",
      "source": [
        "total_step = len(data_loader)\n",
        "d_losses = []\n",
        "g_losses = []\n",
        "\n",
        "print(\"\\n\" + \"=\" * 70)\n",
        "print(\"STARTING GAN TRAINING\")\n",
        "print(\"=\" * 70)\n",
        "print(f\"Total Epochs: {num_epochs}\")\n",
        "print(f\"Steps per Epoch: {total_step}\")\n",
        "print(f\"Total Training Steps: {num_epochs * total_step}\")\n",
        "print(\"=\" * 70 + \"\\n\")\n",
        "\n",
        "for epoch in range(num_epochs):\n",
        "    epoch_d_loss = 0\n",
        "    epoch_g_loss = 0\n",
        "\n",
        "    for i, (images, _) in enumerate(data_loader):\n",
        "        images = images.reshape(batch_size, -1).to(device)\n",
        "\n",
        "        real_labels = torch.ones(batch_size, 1).to(device)\n",
        "        fake_labels = torch.zeros(batch_size, 1).to(device)\n",
        "\n",
        "        outputs = discriminator(images)\n",
        "        d_loss_real = criterion(outputs, real_labels)\n",
        "        real_score = outputs\n",
        "\n",
        "        z = torch.randn(batch_size, latent_size).to(device)\n",
        "        fake_images = generator(z)\n",
        "\n",
        "        outputs = discriminator(fake_images.detach())\n",
        "        d_loss_fake = criterion(outputs, fake_labels)\n",
        "        fake_score = outputs\n",
        "        d_loss = d_loss_real + d_loss_fake\n",
        "        reset_grad()\n",
        "        d_loss.backward()\n",
        "        d_optimizer.step()\n",
        "\n",
        "        z = torch.randn(batch_size, latent_size).to(device)\n",
        "        fake_images = generator(z)\n",
        "        outputs = discriminator(fake_images)\n",
        "        g_loss = criterion(outputs, real_labels)\n",
        "        reset_grad()\n",
        "        g_loss.backward()\n",
        "        g_optimizer.step()\n",
        "\n",
        "        epoch_d_loss += d_loss.item()\n",
        "        epoch_g_loss += g_loss.item()\n",
        "\n",
        "        if (i + 1) % 200 == 0:\n",
        "            print(f'Epoch [{epoch+1}/{num_epochs}], Step [{i+1}/{total_step}], '\n",
        "                  f'D_loss: {d_loss.item():.4f}, G_loss: {g_loss.item():.4f}, '\n",
        "                  f'D(x): {real_score.mean().item():.2f}, D(G(z)): {fake_score.mean().item():.2f}')\n",
        "\n",
        "    d_losses.append(epoch_d_loss / total_step)\n",
        "    g_losses.append(epoch_g_loss / total_step)\n",
        "    if (epoch + 1) % 1 == 0:\n",
        "        fake_images = fake_images.reshape(fake_images.size(0), 1, 28, 28)\n",
        "        torchvision.utils.save_image(\n",
        "            denorm(fake_images),\n",
        "            os.path.join(sample_dir, f'fake_images-{epoch+1}.png')\n",
        "        )\n",
        "\n",
        "print(\"\\n\" + \"=\" * 70)\n",
        "print(\"TRAINING COMPLETED\")\n",
        "print(\"=\" * 70)\n",
        "print(f\"Final D Loss: {d_losses[-1]:.4f}\")\n",
        "print(f\"Final G Loss: {g_losses[-1]:.4f}\")\n",
        "print(\"=\" * 70)"
      ],
      "metadata": {
        "colab": {
          "base_uri": "https://localhost:8080/"
        },
        "id": "ozHAA1PMZhiq",
        "outputId": "7d2bdeeb-5bd9-4837-8736-02bc2ce92522"
      },
      "execution_count": 14,
      "outputs": [
        {
          "output_type": "stream",
          "name": "stdout",
          "text": [
            "\n",
            "======================================================================\n",
            "STARTING GAN TRAINING\n",
            "======================================================================\n",
            "Total Epochs: 100\n",
            "Steps per Epoch: 600\n",
            "Total Training Steps: 60000\n",
            "======================================================================\n",
            "\n",
            "Epoch [1/100], Step [200/600], D_loss: 0.0939, G_loss: 3.4872, D(x): 0.98, D(G(z)): 0.07\n",
            "Epoch [1/100], Step [400/600], D_loss: 0.1875, G_loss: 4.1037, D(x): 0.98, D(G(z)): 0.15\n",
            "Epoch [1/100], Step [600/600], D_loss: 0.1243, G_loss: 3.1490, D(x): 0.97, D(G(z)): 0.09\n",
            "Epoch [2/100], Step [200/600], D_loss: 0.0859, G_loss: 4.1725, D(x): 0.96, D(G(z)): 0.03\n",
            "Epoch [2/100], Step [400/600], D_loss: 0.1336, G_loss: 3.6572, D(x): 0.96, D(G(z)): 0.06\n",
            "Epoch [2/100], Step [600/600], D_loss: 0.1311, G_loss: 5.0218, D(x): 0.96, D(G(z)): 0.05\n",
            "Epoch [3/100], Step [200/600], D_loss: 0.3203, G_loss: 3.8273, D(x): 0.92, D(G(z)): 0.14\n",
            "Epoch [3/100], Step [400/600], D_loss: 0.2821, G_loss: 3.7631, D(x): 0.95, D(G(z)): 0.17\n",
            "Epoch [3/100], Step [600/600], D_loss: 0.0350, G_loss: 5.5748, D(x): 0.98, D(G(z)): 0.02\n",
            "Epoch [4/100], Step [200/600], D_loss: 0.0760, G_loss: 5.3579, D(x): 0.98, D(G(z)): 0.05\n",
            "Epoch [4/100], Step [400/600], D_loss: 0.3803, G_loss: 5.0697, D(x): 0.85, D(G(z)): 0.04\n",
            "Epoch [4/100], Step [600/600], D_loss: 0.2166, G_loss: 4.3845, D(x): 0.92, D(G(z)): 0.04\n",
            "Epoch [5/100], Step [200/600], D_loss: 0.2576, G_loss: 4.1994, D(x): 0.89, D(G(z)): 0.04\n",
            "Epoch [5/100], Step [400/600], D_loss: 0.2173, G_loss: 3.8713, D(x): 0.94, D(G(z)): 0.09\n",
            "Epoch [5/100], Step [600/600], D_loss: 0.1683, G_loss: 5.7067, D(x): 0.94, D(G(z)): 0.07\n",
            "Epoch [6/100], Step [200/600], D_loss: 0.3941, G_loss: 5.1010, D(x): 0.89, D(G(z)): 0.05\n",
            "Epoch [6/100], Step [400/600], D_loss: 0.3460, G_loss: 4.8603, D(x): 0.88, D(G(z)): 0.06\n",
            "Epoch [6/100], Step [600/600], D_loss: 0.2613, G_loss: 3.3143, D(x): 0.90, D(G(z)): 0.09\n",
            "Epoch [7/100], Step [200/600], D_loss: 0.3188, G_loss: 4.0509, D(x): 0.90, D(G(z)): 0.09\n",
            "Epoch [7/100], Step [400/600], D_loss: 0.2988, G_loss: 4.2663, D(x): 0.89, D(G(z)): 0.05\n",
            "Epoch [7/100], Step [600/600], D_loss: 0.5166, G_loss: 3.5420, D(x): 0.83, D(G(z)): 0.09\n",
            "Epoch [8/100], Step [200/600], D_loss: 0.4010, G_loss: 3.9148, D(x): 0.83, D(G(z)): 0.05\n",
            "Epoch [8/100], Step [400/600], D_loss: 0.3356, G_loss: 3.3080, D(x): 0.89, D(G(z)): 0.12\n",
            "Epoch [8/100], Step [600/600], D_loss: 0.6059, G_loss: 3.3339, D(x): 0.88, D(G(z)): 0.25\n",
            "Epoch [9/100], Step [200/600], D_loss: 0.5193, G_loss: 4.6022, D(x): 0.87, D(G(z)): 0.12\n",
            "Epoch [9/100], Step [400/600], D_loss: 0.4113, G_loss: 3.9487, D(x): 0.92, D(G(z)): 0.18\n",
            "Epoch [9/100], Step [600/600], D_loss: 0.4289, G_loss: 2.6166, D(x): 0.86, D(G(z)): 0.13\n",
            "Epoch [10/100], Step [200/600], D_loss: 0.3198, G_loss: 4.0218, D(x): 0.88, D(G(z)): 0.06\n",
            "Epoch [10/100], Step [400/600], D_loss: 0.5362, G_loss: 3.1620, D(x): 0.85, D(G(z)): 0.17\n",
            "Epoch [10/100], Step [600/600], D_loss: 0.4106, G_loss: 3.1360, D(x): 0.86, D(G(z)): 0.13\n",
            "Epoch [11/100], Step [200/600], D_loss: 0.3307, G_loss: 3.1473, D(x): 0.86, D(G(z)): 0.07\n",
            "Epoch [11/100], Step [400/600], D_loss: 0.7439, G_loss: 2.9238, D(x): 0.83, D(G(z)): 0.24\n",
            "Epoch [11/100], Step [600/600], D_loss: 0.4128, G_loss: 3.1494, D(x): 0.88, D(G(z)): 0.15\n",
            "Epoch [12/100], Step [200/600], D_loss: 0.4777, G_loss: 3.7974, D(x): 0.85, D(G(z)): 0.14\n",
            "Epoch [12/100], Step [400/600], D_loss: 0.6164, G_loss: 3.1263, D(x): 0.84, D(G(z)): 0.19\n",
            "Epoch [12/100], Step [600/600], D_loss: 0.3852, G_loss: 3.1717, D(x): 0.83, D(G(z)): 0.09\n",
            "Epoch [13/100], Step [200/600], D_loss: 0.5848, G_loss: 3.0763, D(x): 0.79, D(G(z)): 0.13\n",
            "Epoch [13/100], Step [400/600], D_loss: 0.5717, G_loss: 2.9671, D(x): 0.82, D(G(z)): 0.17\n",
            "Epoch [13/100], Step [600/600], D_loss: 0.5649, G_loss: 3.0177, D(x): 0.81, D(G(z)): 0.16\n",
            "Epoch [14/100], Step [200/600], D_loss: 0.8040, G_loss: 2.7980, D(x): 0.76, D(G(z)): 0.21\n",
            "Epoch [14/100], Step [400/600], D_loss: 0.8059, G_loss: 2.8270, D(x): 0.84, D(G(z)): 0.31\n",
            "Epoch [14/100], Step [600/600], D_loss: 0.5741, G_loss: 2.7761, D(x): 0.83, D(G(z)): 0.18\n",
            "Epoch [15/100], Step [200/600], D_loss: 0.7568, G_loss: 1.9996, D(x): 0.80, D(G(z)): 0.27\n",
            "Epoch [15/100], Step [400/600], D_loss: 0.5545, G_loss: 2.6242, D(x): 0.84, D(G(z)): 0.18\n",
            "Epoch [15/100], Step [600/600], D_loss: 0.4917, G_loss: 1.9234, D(x): 0.83, D(G(z)): 0.19\n",
            "Epoch [16/100], Step [200/600], D_loss: 0.5554, G_loss: 2.7874, D(x): 0.85, D(G(z)): 0.22\n",
            "Epoch [16/100], Step [400/600], D_loss: 0.8034, G_loss: 2.5691, D(x): 0.77, D(G(z)): 0.24\n",
            "Epoch [16/100], Step [600/600], D_loss: 1.0152, G_loss: 1.3766, D(x): 0.75, D(G(z)): 0.32\n",
            "Epoch [17/100], Step [200/600], D_loss: 0.5517, G_loss: 2.8369, D(x): 0.85, D(G(z)): 0.23\n",
            "Epoch [17/100], Step [400/600], D_loss: 0.4420, G_loss: 2.6928, D(x): 0.83, D(G(z)): 0.14\n",
            "Epoch [17/100], Step [600/600], D_loss: 0.6978, G_loss: 1.8726, D(x): 0.76, D(G(z)): 0.22\n",
            "Epoch [18/100], Step [200/600], D_loss: 0.7000, G_loss: 2.0335, D(x): 0.81, D(G(z)): 0.23\n",
            "Epoch [18/100], Step [400/600], D_loss: 0.7271, G_loss: 1.5987, D(x): 0.79, D(G(z)): 0.24\n",
            "Epoch [18/100], Step [600/600], D_loss: 1.0525, G_loss: 2.2753, D(x): 0.67, D(G(z)): 0.24\n",
            "Epoch [19/100], Step [200/600], D_loss: 0.5691, G_loss: 2.6768, D(x): 0.82, D(G(z)): 0.20\n",
            "Epoch [19/100], Step [400/600], D_loss: 0.6945, G_loss: 2.1334, D(x): 0.81, D(G(z)): 0.28\n",
            "Epoch [19/100], Step [600/600], D_loss: 0.6006, G_loss: 3.0025, D(x): 0.81, D(G(z)): 0.20\n",
            "Epoch [20/100], Step [200/600], D_loss: 0.6861, G_loss: 2.2775, D(x): 0.85, D(G(z)): 0.28\n",
            "Epoch [20/100], Step [400/600], D_loss: 0.7518, G_loss: 2.0622, D(x): 0.81, D(G(z)): 0.27\n",
            "Epoch [20/100], Step [600/600], D_loss: 0.5168, G_loss: 2.7297, D(x): 0.83, D(G(z)): 0.18\n",
            "Epoch [21/100], Step [200/600], D_loss: 0.9629, G_loss: 1.9189, D(x): 0.77, D(G(z)): 0.31\n",
            "Epoch [21/100], Step [400/600], D_loss: 0.7160, G_loss: 2.7102, D(x): 0.77, D(G(z)): 0.22\n",
            "Epoch [21/100], Step [600/600], D_loss: 0.6616, G_loss: 2.1868, D(x): 0.82, D(G(z)): 0.21\n",
            "Epoch [22/100], Step [200/600], D_loss: 0.6089, G_loss: 2.0801, D(x): 0.86, D(G(z)): 0.24\n",
            "Epoch [22/100], Step [400/600], D_loss: 0.8508, G_loss: 1.9153, D(x): 0.79, D(G(z)): 0.31\n",
            "Epoch [22/100], Step [600/600], D_loss: 0.5997, G_loss: 2.9911, D(x): 0.79, D(G(z)): 0.18\n",
            "Epoch [23/100], Step [200/600], D_loss: 0.7646, G_loss: 2.4064, D(x): 0.84, D(G(z)): 0.30\n",
            "Epoch [23/100], Step [400/600], D_loss: 0.6554, G_loss: 1.7554, D(x): 0.83, D(G(z)): 0.28\n",
            "Epoch [23/100], Step [600/600], D_loss: 0.7490, G_loss: 2.1584, D(x): 0.77, D(G(z)): 0.26\n",
            "Epoch [24/100], Step [200/600], D_loss: 0.6093, G_loss: 2.3275, D(x): 0.77, D(G(z)): 0.18\n",
            "Epoch [24/100], Step [400/600], D_loss: 0.7838, G_loss: 2.1088, D(x): 0.82, D(G(z)): 0.27\n",
            "Epoch [24/100], Step [600/600], D_loss: 0.7855, G_loss: 2.2330, D(x): 0.77, D(G(z)): 0.22\n",
            "Epoch [25/100], Step [200/600], D_loss: 0.5425, G_loss: 2.2410, D(x): 0.85, D(G(z)): 0.23\n",
            "Epoch [25/100], Step [400/600], D_loss: 0.7401, G_loss: 2.0731, D(x): 0.73, D(G(z)): 0.18\n",
            "Epoch [25/100], Step [600/600], D_loss: 0.7702, G_loss: 2.8448, D(x): 0.75, D(G(z)): 0.22\n",
            "Epoch [26/100], Step [200/600], D_loss: 0.6969, G_loss: 2.0866, D(x): 0.76, D(G(z)): 0.21\n",
            "Epoch [26/100], Step [400/600], D_loss: 0.7808, G_loss: 1.6660, D(x): 0.78, D(G(z)): 0.28\n",
            "Epoch [26/100], Step [600/600], D_loss: 0.6459, G_loss: 1.9358, D(x): 0.85, D(G(z)): 0.25\n",
            "Epoch [27/100], Step [200/600], D_loss: 0.6777, G_loss: 1.9496, D(x): 0.80, D(G(z)): 0.23\n",
            "Epoch [27/100], Step [400/600], D_loss: 0.5160, G_loss: 2.2340, D(x): 0.83, D(G(z)): 0.19\n",
            "Epoch [27/100], Step [600/600], D_loss: 0.8080, G_loss: 1.9694, D(x): 0.73, D(G(z)): 0.19\n",
            "Epoch [28/100], Step [200/600], D_loss: 0.6535, G_loss: 1.8612, D(x): 0.79, D(G(z)): 0.24\n",
            "Epoch [28/100], Step [400/600], D_loss: 0.8683, G_loss: 2.0322, D(x): 0.72, D(G(z)): 0.21\n",
            "Epoch [28/100], Step [600/600], D_loss: 0.8854, G_loss: 2.3852, D(x): 0.70, D(G(z)): 0.25\n",
            "Epoch [29/100], Step [200/600], D_loss: 0.7754, G_loss: 2.4389, D(x): 0.78, D(G(z)): 0.21\n",
            "Epoch [29/100], Step [400/600], D_loss: 0.5814, G_loss: 2.3419, D(x): 0.83, D(G(z)): 0.23\n",
            "Epoch [29/100], Step [600/600], D_loss: 0.5213, G_loss: 2.0772, D(x): 0.88, D(G(z)): 0.25\n",
            "Epoch [30/100], Step [200/600], D_loss: 0.6867, G_loss: 2.0548, D(x): 0.79, D(G(z)): 0.25\n",
            "Epoch [30/100], Step [400/600], D_loss: 0.8247, G_loss: 2.0418, D(x): 0.68, D(G(z)): 0.18\n",
            "Epoch [30/100], Step [600/600], D_loss: 0.9227, G_loss: 2.0704, D(x): 0.68, D(G(z)): 0.20\n",
            "Epoch [31/100], Step [200/600], D_loss: 0.7143, G_loss: 1.6552, D(x): 0.80, D(G(z)): 0.28\n",
            "Epoch [31/100], Step [400/600], D_loss: 0.5740, G_loss: 2.1661, D(x): 0.77, D(G(z)): 0.18\n",
            "Epoch [31/100], Step [600/600], D_loss: 0.7209, G_loss: 1.8486, D(x): 0.73, D(G(z)): 0.21\n",
            "Epoch [32/100], Step [200/600], D_loss: 0.8043, G_loss: 1.7171, D(x): 0.79, D(G(z)): 0.30\n",
            "Epoch [32/100], Step [400/600], D_loss: 0.7791, G_loss: 2.4823, D(x): 0.66, D(G(z)): 0.09\n",
            "Epoch [32/100], Step [600/600], D_loss: 0.7359, G_loss: 1.8861, D(x): 0.78, D(G(z)): 0.27\n",
            "Epoch [33/100], Step [200/600], D_loss: 0.7221, G_loss: 2.1096, D(x): 0.74, D(G(z)): 0.20\n",
            "Epoch [33/100], Step [400/600], D_loss: 0.6979, G_loss: 1.6875, D(x): 0.79, D(G(z)): 0.27\n",
            "Epoch [33/100], Step [600/600], D_loss: 0.8864, G_loss: 1.5178, D(x): 0.72, D(G(z)): 0.26\n",
            "Epoch [34/100], Step [200/600], D_loss: 0.9017, G_loss: 1.8135, D(x): 0.68, D(G(z)): 0.19\n",
            "Epoch [34/100], Step [400/600], D_loss: 0.8118, G_loss: 1.5723, D(x): 0.75, D(G(z)): 0.29\n",
            "Epoch [34/100], Step [600/600], D_loss: 0.9406, G_loss: 1.6057, D(x): 0.72, D(G(z)): 0.33\n",
            "Epoch [35/100], Step [200/600], D_loss: 0.7428, G_loss: 1.9337, D(x): 0.78, D(G(z)): 0.25\n",
            "Epoch [35/100], Step [400/600], D_loss: 0.6445, G_loss: 1.6218, D(x): 0.83, D(G(z)): 0.28\n",
            "Epoch [35/100], Step [600/600], D_loss: 0.8477, G_loss: 2.2369, D(x): 0.69, D(G(z)): 0.19\n",
            "Epoch [36/100], Step [200/600], D_loss: 0.8160, G_loss: 1.7958, D(x): 0.73, D(G(z)): 0.22\n",
            "Epoch [36/100], Step [400/600], D_loss: 0.7335, G_loss: 1.6632, D(x): 0.80, D(G(z)): 0.29\n",
            "Epoch [36/100], Step [600/600], D_loss: 0.6723, G_loss: 1.7909, D(x): 0.79, D(G(z)): 0.26\n",
            "Epoch [37/100], Step [200/600], D_loss: 0.6508, G_loss: 2.2065, D(x): 0.78, D(G(z)): 0.19\n",
            "Epoch [37/100], Step [400/600], D_loss: 0.9124, G_loss: 1.5909, D(x): 0.81, D(G(z)): 0.37\n",
            "Epoch [37/100], Step [600/600], D_loss: 0.6861, G_loss: 2.2650, D(x): 0.80, D(G(z)): 0.25\n",
            "Epoch [38/100], Step [200/600], D_loss: 0.9996, G_loss: 1.8264, D(x): 0.69, D(G(z)): 0.24\n",
            "Epoch [38/100], Step [400/600], D_loss: 0.6557, G_loss: 1.7891, D(x): 0.75, D(G(z)): 0.21\n",
            "Epoch [38/100], Step [600/600], D_loss: 0.7369, G_loss: 1.8370, D(x): 0.79, D(G(z)): 0.27\n",
            "Epoch [39/100], Step [200/600], D_loss: 0.9453, G_loss: 1.8602, D(x): 0.73, D(G(z)): 0.29\n",
            "Epoch [39/100], Step [400/600], D_loss: 0.6261, G_loss: 2.2076, D(x): 0.77, D(G(z)): 0.17\n",
            "Epoch [39/100], Step [600/600], D_loss: 0.8427, G_loss: 1.6645, D(x): 0.70, D(G(z)): 0.24\n",
            "Epoch [40/100], Step [200/600], D_loss: 0.6948, G_loss: 1.6521, D(x): 0.83, D(G(z)): 0.27\n",
            "Epoch [40/100], Step [400/600], D_loss: 0.7450, G_loss: 1.8107, D(x): 0.74, D(G(z)): 0.21\n",
            "Epoch [40/100], Step [600/600], D_loss: 0.7170, G_loss: 1.5710, D(x): 0.77, D(G(z)): 0.23\n",
            "Epoch [41/100], Step [200/600], D_loss: 0.7585, G_loss: 1.8695, D(x): 0.78, D(G(z)): 0.28\n",
            "Epoch [41/100], Step [400/600], D_loss: 0.8592, G_loss: 1.6893, D(x): 0.69, D(G(z)): 0.24\n",
            "Epoch [41/100], Step [600/600], D_loss: 0.8637, G_loss: 1.4927, D(x): 0.72, D(G(z)): 0.25\n",
            "Epoch [42/100], Step [200/600], D_loss: 0.6602, G_loss: 1.8134, D(x): 0.80, D(G(z)): 0.27\n",
            "Epoch [42/100], Step [400/600], D_loss: 0.7378, G_loss: 2.0052, D(x): 0.76, D(G(z)): 0.18\n",
            "Epoch [42/100], Step [600/600], D_loss: 0.6916, G_loss: 1.6747, D(x): 0.78, D(G(z)): 0.25\n",
            "Epoch [43/100], Step [200/600], D_loss: 0.8848, G_loss: 1.6739, D(x): 0.70, D(G(z)): 0.28\n",
            "Epoch [43/100], Step [400/600], D_loss: 0.6728, G_loss: 1.6116, D(x): 0.81, D(G(z)): 0.28\n",
            "Epoch [43/100], Step [600/600], D_loss: 0.8285, G_loss: 1.9302, D(x): 0.72, D(G(z)): 0.24\n",
            "Epoch [44/100], Step [200/600], D_loss: 1.0126, G_loss: 1.5612, D(x): 0.64, D(G(z)): 0.27\n",
            "Epoch [44/100], Step [400/600], D_loss: 0.7315, G_loss: 2.0723, D(x): 0.76, D(G(z)): 0.24\n",
            "Epoch [44/100], Step [600/600], D_loss: 0.8145, G_loss: 1.6470, D(x): 0.72, D(G(z)): 0.25\n",
            "Epoch [45/100], Step [200/600], D_loss: 0.6659, G_loss: 1.9885, D(x): 0.77, D(G(z)): 0.22\n",
            "Epoch [45/100], Step [400/600], D_loss: 0.7513, G_loss: 1.8973, D(x): 0.75, D(G(z)): 0.23\n",
            "Epoch [45/100], Step [600/600], D_loss: 0.7281, G_loss: 1.6126, D(x): 0.76, D(G(z)): 0.25\n",
            "Epoch [46/100], Step [200/600], D_loss: 0.6115, G_loss: 1.7703, D(x): 0.80, D(G(z)): 0.23\n",
            "Epoch [46/100], Step [400/600], D_loss: 0.8934, G_loss: 1.5108, D(x): 0.72, D(G(z)): 0.29\n",
            "Epoch [46/100], Step [600/600], D_loss: 0.6631, G_loss: 1.8066, D(x): 0.75, D(G(z)): 0.23\n",
            "Epoch [47/100], Step [200/600], D_loss: 0.8788, G_loss: 1.6737, D(x): 0.69, D(G(z)): 0.23\n",
            "Epoch [47/100], Step [400/600], D_loss: 0.8197, G_loss: 1.5081, D(x): 0.74, D(G(z)): 0.28\n",
            "Epoch [47/100], Step [600/600], D_loss: 0.7566, G_loss: 2.2855, D(x): 0.73, D(G(z)): 0.22\n",
            "Epoch [48/100], Step [200/600], D_loss: 0.8302, G_loss: 1.8757, D(x): 0.69, D(G(z)): 0.21\n",
            "Epoch [48/100], Step [400/600], D_loss: 0.7097, G_loss: 2.3320, D(x): 0.74, D(G(z)): 0.20\n",
            "Epoch [48/100], Step [600/600], D_loss: 0.6197, G_loss: 1.7173, D(x): 0.76, D(G(z)): 0.20\n",
            "Epoch [49/100], Step [200/600], D_loss: 0.8743, G_loss: 1.5861, D(x): 0.72, D(G(z)): 0.27\n",
            "Epoch [49/100], Step [400/600], D_loss: 0.8246, G_loss: 1.5445, D(x): 0.77, D(G(z)): 0.30\n",
            "Epoch [49/100], Step [600/600], D_loss: 0.8976, G_loss: 1.6660, D(x): 0.75, D(G(z)): 0.33\n",
            "Epoch [50/100], Step [200/600], D_loss: 0.7017, G_loss: 1.6039, D(x): 0.77, D(G(z)): 0.24\n",
            "Epoch [50/100], Step [400/600], D_loss: 0.9858, G_loss: 1.6553, D(x): 0.72, D(G(z)): 0.32\n",
            "Epoch [50/100], Step [600/600], D_loss: 0.7273, G_loss: 1.8196, D(x): 0.78, D(G(z)): 0.30\n",
            "Epoch [51/100], Step [200/600], D_loss: 0.9556, G_loss: 1.5265, D(x): 0.71, D(G(z)): 0.24\n",
            "Epoch [51/100], Step [400/600], D_loss: 0.7285, G_loss: 1.8195, D(x): 0.75, D(G(z)): 0.25\n",
            "Epoch [51/100], Step [600/600], D_loss: 0.6407, G_loss: 1.8184, D(x): 0.81, D(G(z)): 0.27\n",
            "Epoch [52/100], Step [200/600], D_loss: 0.8345, G_loss: 1.5170, D(x): 0.75, D(G(z)): 0.26\n",
            "Epoch [52/100], Step [400/600], D_loss: 1.0659, G_loss: 1.7701, D(x): 0.63, D(G(z)): 0.23\n",
            "Epoch [52/100], Step [600/600], D_loss: 0.7937, G_loss: 1.9510, D(x): 0.73, D(G(z)): 0.22\n",
            "Epoch [53/100], Step [200/600], D_loss: 0.8663, G_loss: 1.8295, D(x): 0.71, D(G(z)): 0.26\n",
            "Epoch [53/100], Step [400/600], D_loss: 0.9065, G_loss: 1.9765, D(x): 0.69, D(G(z)): 0.22\n",
            "Epoch [53/100], Step [600/600], D_loss: 0.7947, G_loss: 1.3202, D(x): 0.75, D(G(z)): 0.29\n",
            "Epoch [54/100], Step [200/600], D_loss: 0.8050, G_loss: 1.6741, D(x): 0.74, D(G(z)): 0.27\n",
            "Epoch [54/100], Step [400/600], D_loss: 0.8618, G_loss: 1.4782, D(x): 0.77, D(G(z)): 0.35\n",
            "Epoch [54/100], Step [600/600], D_loss: 0.6427, G_loss: 2.0070, D(x): 0.79, D(G(z)): 0.23\n",
            "Epoch [55/100], Step [200/600], D_loss: 0.7921, G_loss: 1.7299, D(x): 0.72, D(G(z)): 0.23\n",
            "Epoch [55/100], Step [400/600], D_loss: 0.9067, G_loss: 2.0008, D(x): 0.68, D(G(z)): 0.22\n",
            "Epoch [55/100], Step [600/600], D_loss: 0.9029, G_loss: 1.3360, D(x): 0.77, D(G(z)): 0.35\n",
            "Epoch [56/100], Step [200/600], D_loss: 0.8987, G_loss: 1.3938, D(x): 0.71, D(G(z)): 0.28\n",
            "Epoch [56/100], Step [400/600], D_loss: 0.8756, G_loss: 1.4103, D(x): 0.75, D(G(z)): 0.34\n",
            "Epoch [56/100], Step [600/600], D_loss: 0.7705, G_loss: 1.5654, D(x): 0.74, D(G(z)): 0.23\n",
            "Epoch [57/100], Step [200/600], D_loss: 0.8046, G_loss: 1.6240, D(x): 0.76, D(G(z)): 0.26\n",
            "Epoch [57/100], Step [400/600], D_loss: 0.8404, G_loss: 1.7115, D(x): 0.69, D(G(z)): 0.26\n",
            "Epoch [57/100], Step [600/600], D_loss: 0.8303, G_loss: 1.7954, D(x): 0.74, D(G(z)): 0.29\n",
            "Epoch [58/100], Step [200/600], D_loss: 0.7227, G_loss: 1.5547, D(x): 0.76, D(G(z)): 0.25\n",
            "Epoch [58/100], Step [400/600], D_loss: 0.8133, G_loss: 1.8063, D(x): 0.77, D(G(z)): 0.30\n",
            "Epoch [58/100], Step [600/600], D_loss: 0.8545, G_loss: 1.4417, D(x): 0.81, D(G(z)): 0.40\n",
            "Epoch [59/100], Step [200/600], D_loss: 0.9933, G_loss: 1.9580, D(x): 0.70, D(G(z)): 0.28\n",
            "Epoch [59/100], Step [400/600], D_loss: 0.6933, G_loss: 1.6820, D(x): 0.77, D(G(z)): 0.21\n",
            "Epoch [59/100], Step [600/600], D_loss: 0.7438, G_loss: 1.7437, D(x): 0.79, D(G(z)): 0.28\n",
            "Epoch [60/100], Step [200/600], D_loss: 0.7513, G_loss: 1.9586, D(x): 0.77, D(G(z)): 0.24\n",
            "Epoch [60/100], Step [400/600], D_loss: 0.8669, G_loss: 1.8785, D(x): 0.67, D(G(z)): 0.22\n",
            "Epoch [60/100], Step [600/600], D_loss: 0.7382, G_loss: 1.7539, D(x): 0.72, D(G(z)): 0.20\n",
            "Epoch [61/100], Step [200/600], D_loss: 0.8481, G_loss: 1.7301, D(x): 0.71, D(G(z)): 0.20\n",
            "Epoch [61/100], Step [400/600], D_loss: 0.7373, G_loss: 1.5844, D(x): 0.79, D(G(z)): 0.27\n",
            "Epoch [61/100], Step [600/600], D_loss: 0.7896, G_loss: 1.7377, D(x): 0.76, D(G(z)): 0.26\n",
            "Epoch [62/100], Step [200/600], D_loss: 0.8917, G_loss: 1.4792, D(x): 0.73, D(G(z)): 0.26\n",
            "Epoch [62/100], Step [400/600], D_loss: 0.9035, G_loss: 1.6797, D(x): 0.71, D(G(z)): 0.26\n",
            "Epoch [62/100], Step [600/600], D_loss: 0.8589, G_loss: 1.5726, D(x): 0.77, D(G(z)): 0.28\n",
            "Epoch [63/100], Step [200/600], D_loss: 0.8993, G_loss: 1.7383, D(x): 0.72, D(G(z)): 0.27\n",
            "Epoch [63/100], Step [400/600], D_loss: 0.9067, G_loss: 1.5113, D(x): 0.77, D(G(z)): 0.35\n",
            "Epoch [63/100], Step [600/600], D_loss: 0.8934, G_loss: 1.6545, D(x): 0.69, D(G(z)): 0.27\n",
            "Epoch [64/100], Step [200/600], D_loss: 0.8710, G_loss: 1.6926, D(x): 0.73, D(G(z)): 0.27\n",
            "Epoch [64/100], Step [400/600], D_loss: 0.7704, G_loss: 1.5868, D(x): 0.75, D(G(z)): 0.27\n",
            "Epoch [64/100], Step [600/600], D_loss: 0.7404, G_loss: 2.1292, D(x): 0.71, D(G(z)): 0.20\n",
            "Epoch [65/100], Step [200/600], D_loss: 0.5421, G_loss: 1.9878, D(x): 0.81, D(G(z)): 0.20\n",
            "Epoch [65/100], Step [400/600], D_loss: 0.6912, G_loss: 1.8549, D(x): 0.81, D(G(z)): 0.26\n",
            "Epoch [65/100], Step [600/600], D_loss: 0.8785, G_loss: 1.7292, D(x): 0.72, D(G(z)): 0.28\n",
            "Epoch [66/100], Step [200/600], D_loss: 0.6920, G_loss: 1.7571, D(x): 0.75, D(G(z)): 0.24\n",
            "Epoch [66/100], Step [400/600], D_loss: 0.8830, G_loss: 1.6231, D(x): 0.75, D(G(z)): 0.31\n",
            "Epoch [66/100], Step [600/600], D_loss: 0.8713, G_loss: 1.7419, D(x): 0.69, D(G(z)): 0.23\n",
            "Epoch [67/100], Step [200/600], D_loss: 0.7638, G_loss: 1.5139, D(x): 0.77, D(G(z)): 0.29\n",
            "Epoch [67/100], Step [400/600], D_loss: 1.0021, G_loss: 1.3895, D(x): 0.68, D(G(z)): 0.27\n",
            "Epoch [67/100], Step [600/600], D_loss: 0.7682, G_loss: 1.5800, D(x): 0.77, D(G(z)): 0.29\n",
            "Epoch [68/100], Step [200/600], D_loss: 0.7084, G_loss: 1.6412, D(x): 0.77, D(G(z)): 0.25\n",
            "Epoch [68/100], Step [400/600], D_loss: 0.6897, G_loss: 1.4984, D(x): 0.81, D(G(z)): 0.28\n",
            "Epoch [68/100], Step [600/600], D_loss: 0.6490, G_loss: 1.7181, D(x): 0.81, D(G(z)): 0.24\n",
            "Epoch [69/100], Step [200/600], D_loss: 0.7952, G_loss: 1.6354, D(x): 0.75, D(G(z)): 0.26\n",
            "Epoch [69/100], Step [400/600], D_loss: 0.7709, G_loss: 1.7083, D(x): 0.72, D(G(z)): 0.21\n",
            "Epoch [69/100], Step [600/600], D_loss: 0.9380, G_loss: 1.5119, D(x): 0.78, D(G(z)): 0.36\n",
            "Epoch [70/100], Step [200/600], D_loss: 0.6498, G_loss: 2.1635, D(x): 0.76, D(G(z)): 0.20\n",
            "Epoch [70/100], Step [400/600], D_loss: 0.8054, G_loss: 1.5822, D(x): 0.73, D(G(z)): 0.29\n",
            "Epoch [70/100], Step [600/600], D_loss: 0.8132, G_loss: 1.6360, D(x): 0.74, D(G(z)): 0.27\n",
            "Epoch [71/100], Step [200/600], D_loss: 1.0060, G_loss: 1.7615, D(x): 0.63, D(G(z)): 0.18\n",
            "Epoch [71/100], Step [400/600], D_loss: 0.7661, G_loss: 1.5816, D(x): 0.78, D(G(z)): 0.31\n",
            "Epoch [71/100], Step [600/600], D_loss: 0.8858, G_loss: 1.5921, D(x): 0.71, D(G(z)): 0.26\n",
            "Epoch [72/100], Step [200/600], D_loss: 0.8247, G_loss: 1.7112, D(x): 0.71, D(G(z)): 0.23\n",
            "Epoch [72/100], Step [400/600], D_loss: 0.9284, G_loss: 1.7236, D(x): 0.67, D(G(z)): 0.25\n",
            "Epoch [72/100], Step [600/600], D_loss: 0.7951, G_loss: 1.5458, D(x): 0.73, D(G(z)): 0.26\n",
            "Epoch [73/100], Step [200/600], D_loss: 0.7407, G_loss: 1.7484, D(x): 0.78, D(G(z)): 0.29\n",
            "Epoch [73/100], Step [400/600], D_loss: 0.9198, G_loss: 1.8339, D(x): 0.67, D(G(z)): 0.23\n",
            "Epoch [73/100], Step [600/600], D_loss: 0.8176, G_loss: 1.7251, D(x): 0.76, D(G(z)): 0.30\n",
            "Epoch [74/100], Step [200/600], D_loss: 0.9614, G_loss: 1.6605, D(x): 0.74, D(G(z)): 0.30\n",
            "Epoch [74/100], Step [400/600], D_loss: 0.8899, G_loss: 1.7201, D(x): 0.72, D(G(z)): 0.30\n",
            "Epoch [74/100], Step [600/600], D_loss: 0.8129, G_loss: 1.6505, D(x): 0.75, D(G(z)): 0.29\n",
            "Epoch [75/100], Step [200/600], D_loss: 0.9440, G_loss: 1.7664, D(x): 0.67, D(G(z)): 0.25\n",
            "Epoch [75/100], Step [400/600], D_loss: 0.7225, G_loss: 1.8494, D(x): 0.74, D(G(z)): 0.20\n",
            "Epoch [75/100], Step [600/600], D_loss: 0.7427, G_loss: 1.4608, D(x): 0.75, D(G(z)): 0.26\n",
            "Epoch [76/100], Step [200/600], D_loss: 0.7410, G_loss: 1.7183, D(x): 0.75, D(G(z)): 0.26\n",
            "Epoch [76/100], Step [400/600], D_loss: 0.9599, G_loss: 1.5896, D(x): 0.66, D(G(z)): 0.24\n",
            "Epoch [76/100], Step [600/600], D_loss: 0.8057, G_loss: 1.7512, D(x): 0.76, D(G(z)): 0.29\n",
            "Epoch [77/100], Step [200/600], D_loss: 0.9458, G_loss: 1.6423, D(x): 0.70, D(G(z)): 0.24\n",
            "Epoch [77/100], Step [400/600], D_loss: 0.7057, G_loss: 1.6026, D(x): 0.77, D(G(z)): 0.25\n",
            "Epoch [77/100], Step [600/600], D_loss: 0.7451, G_loss: 1.4605, D(x): 0.74, D(G(z)): 0.24\n",
            "Epoch [78/100], Step [200/600], D_loss: 0.9008, G_loss: 1.4452, D(x): 0.67, D(G(z)): 0.28\n",
            "Epoch [78/100], Step [400/600], D_loss: 0.8256, G_loss: 1.3405, D(x): 0.72, D(G(z)): 0.29\n",
            "Epoch [78/100], Step [600/600], D_loss: 0.8909, G_loss: 1.5807, D(x): 0.73, D(G(z)): 0.30\n",
            "Epoch [79/100], Step [200/600], D_loss: 0.8036, G_loss: 1.5739, D(x): 0.76, D(G(z)): 0.30\n",
            "Epoch [79/100], Step [400/600], D_loss: 0.6500, G_loss: 1.8223, D(x): 0.79, D(G(z)): 0.24\n",
            "Epoch [79/100], Step [600/600], D_loss: 0.6500, G_loss: 1.9931, D(x): 0.74, D(G(z)): 0.17\n",
            "Epoch [80/100], Step [200/600], D_loss: 0.7722, G_loss: 1.7621, D(x): 0.70, D(G(z)): 0.20\n",
            "Epoch [80/100], Step [400/600], D_loss: 0.8133, G_loss: 1.6754, D(x): 0.73, D(G(z)): 0.27\n",
            "Epoch [80/100], Step [600/600], D_loss: 0.9288, G_loss: 1.7778, D(x): 0.65, D(G(z)): 0.22\n",
            "Epoch [81/100], Step [200/600], D_loss: 0.7475, G_loss: 1.6572, D(x): 0.74, D(G(z)): 0.24\n",
            "Epoch [81/100], Step [400/600], D_loss: 0.9180, G_loss: 1.4397, D(x): 0.70, D(G(z)): 0.25\n",
            "Epoch [81/100], Step [600/600], D_loss: 0.8990, G_loss: 1.6825, D(x): 0.78, D(G(z)): 0.37\n",
            "Epoch [82/100], Step [200/600], D_loss: 0.9427, G_loss: 1.5059, D(x): 0.69, D(G(z)): 0.27\n",
            "Epoch [82/100], Step [400/600], D_loss: 0.8801, G_loss: 1.5741, D(x): 0.77, D(G(z)): 0.35\n",
            "Epoch [82/100], Step [600/600], D_loss: 0.8485, G_loss: 1.6222, D(x): 0.70, D(G(z)): 0.26\n",
            "Epoch [83/100], Step [200/600], D_loss: 0.9356, G_loss: 1.8603, D(x): 0.67, D(G(z)): 0.23\n",
            "Epoch [83/100], Step [400/600], D_loss: 0.5873, G_loss: 1.6101, D(x): 0.81, D(G(z)): 0.25\n",
            "Epoch [83/100], Step [600/600], D_loss: 0.8126, G_loss: 1.5335, D(x): 0.78, D(G(z)): 0.33\n",
            "Epoch [84/100], Step [200/600], D_loss: 0.8491, G_loss: 1.8556, D(x): 0.66, D(G(z)): 0.20\n",
            "Epoch [84/100], Step [400/600], D_loss: 0.8204, G_loss: 1.5102, D(x): 0.76, D(G(z)): 0.30\n",
            "Epoch [84/100], Step [600/600], D_loss: 0.8216, G_loss: 1.3695, D(x): 0.78, D(G(z)): 0.32\n",
            "Epoch [85/100], Step [200/600], D_loss: 0.7083, G_loss: 1.5378, D(x): 0.76, D(G(z)): 0.27\n",
            "Epoch [85/100], Step [400/600], D_loss: 0.8575, G_loss: 1.5655, D(x): 0.74, D(G(z)): 0.30\n",
            "Epoch [85/100], Step [600/600], D_loss: 0.7303, G_loss: 2.1472, D(x): 0.73, D(G(z)): 0.19\n",
            "Epoch [86/100], Step [200/600], D_loss: 0.6912, G_loss: 1.6534, D(x): 0.74, D(G(z)): 0.21\n",
            "Epoch [86/100], Step [400/600], D_loss: 0.8647, G_loss: 1.4531, D(x): 0.75, D(G(z)): 0.33\n",
            "Epoch [86/100], Step [600/600], D_loss: 0.8086, G_loss: 1.7062, D(x): 0.73, D(G(z)): 0.26\n",
            "Epoch [87/100], Step [200/600], D_loss: 0.7097, G_loss: 1.3788, D(x): 0.79, D(G(z)): 0.28\n",
            "Epoch [87/100], Step [400/600], D_loss: 0.8617, G_loss: 1.6407, D(x): 0.67, D(G(z)): 0.24\n",
            "Epoch [87/100], Step [600/600], D_loss: 1.0664, G_loss: 1.4779, D(x): 0.63, D(G(z)): 0.29\n",
            "Epoch [88/100], Step [200/600], D_loss: 0.9285, G_loss: 1.5322, D(x): 0.69, D(G(z)): 0.27\n",
            "Epoch [88/100], Step [400/600], D_loss: 0.8477, G_loss: 1.4004, D(x): 0.74, D(G(z)): 0.31\n",
            "Epoch [88/100], Step [600/600], D_loss: 0.7766, G_loss: 1.7313, D(x): 0.71, D(G(z)): 0.25\n",
            "Epoch [89/100], Step [200/600], D_loss: 0.9008, G_loss: 1.5461, D(x): 0.70, D(G(z)): 0.28\n",
            "Epoch [89/100], Step [400/600], D_loss: 0.9652, G_loss: 1.3663, D(x): 0.73, D(G(z)): 0.38\n",
            "Epoch [89/100], Step [600/600], D_loss: 0.8876, G_loss: 1.6790, D(x): 0.72, D(G(z)): 0.24\n",
            "Epoch [90/100], Step [200/600], D_loss: 0.8674, G_loss: 1.3807, D(x): 0.74, D(G(z)): 0.33\n",
            "Epoch [90/100], Step [400/600], D_loss: 0.7236, G_loss: 1.6588, D(x): 0.77, D(G(z)): 0.25\n",
            "Epoch [90/100], Step [600/600], D_loss: 0.8669, G_loss: 1.5299, D(x): 0.68, D(G(z)): 0.25\n",
            "Epoch [91/100], Step [200/600], D_loss: 0.9273, G_loss: 1.3244, D(x): 0.70, D(G(z)): 0.30\n",
            "Epoch [91/100], Step [400/600], D_loss: 0.8366, G_loss: 1.5718, D(x): 0.71, D(G(z)): 0.27\n",
            "Epoch [91/100], Step [600/600], D_loss: 0.8339, G_loss: 1.4265, D(x): 0.75, D(G(z)): 0.30\n",
            "Epoch [92/100], Step [200/600], D_loss: 0.9797, G_loss: 1.9219, D(x): 0.62, D(G(z)): 0.24\n",
            "Epoch [92/100], Step [400/600], D_loss: 1.0457, G_loss: 1.5339, D(x): 0.65, D(G(z)): 0.28\n",
            "Epoch [92/100], Step [600/600], D_loss: 0.8944, G_loss: 1.3238, D(x): 0.73, D(G(z)): 0.33\n",
            "Epoch [93/100], Step [200/600], D_loss: 0.7964, G_loss: 1.6679, D(x): 0.74, D(G(z)): 0.28\n",
            "Epoch [93/100], Step [400/600], D_loss: 0.7421, G_loss: 1.7018, D(x): 0.75, D(G(z)): 0.24\n",
            "Epoch [93/100], Step [600/600], D_loss: 0.7360, G_loss: 2.0085, D(x): 0.74, D(G(z)): 0.23\n",
            "Epoch [94/100], Step [200/600], D_loss: 0.8934, G_loss: 1.6855, D(x): 0.71, D(G(z)): 0.31\n",
            "Epoch [94/100], Step [400/600], D_loss: 0.6447, G_loss: 1.7685, D(x): 0.79, D(G(z)): 0.24\n",
            "Epoch [94/100], Step [600/600], D_loss: 0.6925, G_loss: 1.6961, D(x): 0.77, D(G(z)): 0.26\n",
            "Epoch [95/100], Step [200/600], D_loss: 0.9266, G_loss: 1.5095, D(x): 0.64, D(G(z)): 0.22\n",
            "Epoch [95/100], Step [400/600], D_loss: 0.9245, G_loss: 1.4131, D(x): 0.72, D(G(z)): 0.31\n",
            "Epoch [95/100], Step [600/600], D_loss: 0.8941, G_loss: 1.3708, D(x): 0.70, D(G(z)): 0.30\n",
            "Epoch [96/100], Step [200/600], D_loss: 0.7053, G_loss: 1.6512, D(x): 0.77, D(G(z)): 0.27\n",
            "Epoch [96/100], Step [400/600], D_loss: 0.9740, G_loss: 1.4769, D(x): 0.67, D(G(z)): 0.31\n",
            "Epoch [96/100], Step [600/600], D_loss: 0.9386, G_loss: 1.9127, D(x): 0.70, D(G(z)): 0.27\n",
            "Epoch [97/100], Step [200/600], D_loss: 0.8467, G_loss: 1.5619, D(x): 0.77, D(G(z)): 0.32\n",
            "Epoch [97/100], Step [400/600], D_loss: 0.8941, G_loss: 1.7307, D(x): 0.65, D(G(z)): 0.21\n",
            "Epoch [97/100], Step [600/600], D_loss: 0.7285, G_loss: 1.8853, D(x): 0.75, D(G(z)): 0.26\n",
            "Epoch [98/100], Step [200/600], D_loss: 0.9031, G_loss: 1.7356, D(x): 0.65, D(G(z)): 0.22\n",
            "Epoch [98/100], Step [400/600], D_loss: 1.0368, G_loss: 1.4600, D(x): 0.65, D(G(z)): 0.30\n",
            "Epoch [98/100], Step [600/600], D_loss: 1.0655, G_loss: 1.2746, D(x): 0.64, D(G(z)): 0.31\n",
            "Epoch [99/100], Step [200/600], D_loss: 0.8278, G_loss: 1.5987, D(x): 0.69, D(G(z)): 0.23\n",
            "Epoch [99/100], Step [400/600], D_loss: 0.9156, G_loss: 1.4902, D(x): 0.69, D(G(z)): 0.25\n",
            "Epoch [99/100], Step [600/600], D_loss: 0.9126, G_loss: 1.5361, D(x): 0.67, D(G(z)): 0.27\n",
            "Epoch [100/100], Step [200/600], D_loss: 0.7992, G_loss: 1.8256, D(x): 0.70, D(G(z)): 0.21\n",
            "Epoch [100/100], Step [400/600], D_loss: 1.0212, G_loss: 1.4114, D(x): 0.67, D(G(z)): 0.31\n",
            "Epoch [100/100], Step [600/600], D_loss: 0.9114, G_loss: 1.6309, D(x): 0.71, D(G(z)): 0.32\n",
            "\n",
            "======================================================================\n",
            "TRAINING COMPLETED\n",
            "======================================================================\n",
            "Final D Loss: 0.8501\n",
            "Final G Loss: 1.5636\n",
            "======================================================================\n"
          ]
        }
      ]
    },
    {
      "cell_type": "code",
      "source": [
        "print(f\"\\nTraining Statistics:\")\n",
        "print(f\"Epochs completed: {len(d_losses)}\")\n",
        "print(f\"Average D Loss: {sum(d_losses)/len(d_losses):.4f}\")\n",
        "print(f\"Average G Loss: {sum(g_losses)/len(g_losses):.4f}\")"
      ],
      "metadata": {
        "colab": {
          "base_uri": "https://localhost:8080/"
        },
        "id": "eJnvxRi0aAfy",
        "outputId": "ed24e5e7-1c00-4e84-bc94-f0ef62d02bd8"
      },
      "execution_count": 15,
      "outputs": [
        {
          "output_type": "stream",
          "name": "stdout",
          "text": [
            "\n",
            "Training Statistics:\n",
            "Epochs completed: 100\n",
            "Average D Loss: 0.7398\n",
            "Average G Loss: 2.0425\n"
          ]
        }
      ]
    },
    {
      "cell_type": "markdown",
      "source": [
        "# Model Evaluation and Plots"
      ],
      "metadata": {
        "id": "v7AwoMLyaA7I"
      }
    },
    {
      "cell_type": "code",
      "source": [
        "plt.figure(figsize=(12, 6))\n",
        "\n",
        "plt.plot(d_losses, label='Discriminator Loss',\n",
        "         linewidth=2, color='#e74c3c', alpha=0.8)\n",
        "\n",
        "plt.plot(g_losses, label='Generator Loss',\n",
        "         linewidth=2, color='#3498db', alpha=0.8)\n",
        "\n",
        "plt.xlabel('Epoch', fontsize=12, fontweight='bold')\n",
        "plt.ylabel('Loss', fontsize=12, fontweight='bold')\n",
        "plt.title('GAN Training Loss Curves: Generator vs Discriminator',\n",
        "          fontsize=14, fontweight='bold', pad=20)\n",
        "plt.legend(loc='upper right', fontsize=11, frameon=True, shadow=True)\n",
        "plt.grid(True, alpha=0.3, linestyle='--')\n",
        "\n",
        "plt.axhline(y=sum(d_losses)/len(d_losses), color='#e74c3c',\n",
        "            linestyle=':', alpha=0.5, label=f'Avg D Loss: {sum(d_losses)/len(d_losses):.3f}')\n",
        "plt.axhline(y=sum(g_losses)/len(g_losses), color='#3498db',\n",
        "            linestyle=':', alpha=0.5, label=f'Avg G Loss: {sum(g_losses)/len(g_losses):.3f}')\n",
        "\n",
        "plt.tight_layout()\n",
        "plt.show()\n",
        "\n",
        "print(\"\\n\" + \"=\" * 70)\n",
        "print(\"LOSS ANALYSIS\")\n",
        "print(\"=\" * 70)\n",
        "print(f\"Final D Loss:     {d_losses[-1]:.4f}\")\n",
        "print(f\"Final G Loss:     {g_losses[-1]:.4f}\")\n",
        "print(f\"Average D Loss:   {sum(d_losses)/len(d_losses):.4f}\")\n",
        "print(f\"Average G Loss:   {sum(g_losses)/len(g_losses):.4f}\")\n",
        "print(f\"Loss Ratio (G/D): {g_losses[-1]/d_losses[-1]:.4f}\")\n",
        "print(\"=\" * 70)"
      ],
      "metadata": {
        "colab": {
          "base_uri": "https://localhost:8080/",
          "height": 781
        },
        "id": "y1A_TxWIaD3d",
        "outputId": "98ab5896-e54d-408d-fb4b-6570ff7d7129"
      },
      "execution_count": 16,
      "outputs": [
        {
          "output_type": "display_data",
          "data": {
            "text/plain": [
              "<Figure size 1200x600 with 1 Axes>"
            ],
            "image/png": "[encoded data removed]"
          },
          "metadata": {}
        },
        {
          "output_type": "stream",
          "name": "stdout",
          "text": [
            "\n",
            "======================================================================\n",
            "LOSS ANALYSIS\n",
            "======================================================================\n",
            "Final D Loss:     0.8501\n",
            "Final G Loss:     1.5636\n",
            "Average D Loss:   0.7398\n",
            "Average G Loss:   2.0425\n",
            "Loss Ratio (G/D): 1.8394\n",
            "======================================================================\n"
          ]
        }
      ]
    },
    {
      "cell_type": "code",
      "source": [
        "torch.save(generator.state_dict(), 'generator.pth')\n",
        "torch.save(discriminator.state_dict(), 'discriminator.pth')\n",
        "\n",
        "print(\"\\n\" + \"=\" * 70)\n",
        "print(\"MODEL WEIGHTS SAVED\")\n",
        "print(\"=\" * 70)\n",
        "print(\"Generator weights saved to: generator.pth\")\n",
        "print(\"Discriminator weights saved to: discriminator.pth\")\n",
        "print(\"=\" * 70)"
      ],
      "metadata": {
        "colab": {
          "base_uri": "https://localhost:8080/"
        },
        "id": "KN0ucLARhHme",
        "outputId": "fc5bfdd6-71e0-4e3d-faea-fe081e09c2cb"
      },
      "execution_count": 17,
      "outputs": [
        {
          "output_type": "stream",
          "name": "stdout",
          "text": [
            "\n",
            "======================================================================\n",
            "MODEL WEIGHTS SAVED\n",
            "======================================================================\n",
            "Generator weights saved to: generator.pth\n",
            "Discriminator weights saved to: discriminator.pth\n",
            "======================================================================\n"
          ]
        }
      ]
    },
    {
      "cell_type": "code",
      "source": [
        "fig, axes = plt.subplots(2, 10, figsize=(16, 4))\n",
        "\n",
        "print(\"\\n\" + \"=\" * 70)\n",
        "print(\"REAL VS GENERATED IMAGE COMPARISON\")\n",
        "print(\"=\" * 70)\n",
        "\n",
        "real_batch = next(iter(data_loader))\n",
        "real_images = real_batch[0][:10]\n",
        "\n",
        "for i in range(10):\n",
        "    axes[0, i].imshow(real_images[i].squeeze(), cmap='gray')\n",
        "    axes[0, i].axis('off')\n",
        "    if i == 0:\n",
        "        axes[0, i].set_title('Real Images', fontweight='bold',\n",
        "                              loc='left', fontsize=11, pad=10)\n",
        "\n",
        "generator.eval()\n",
        "with torch.no_grad():\n",
        "    z = torch.randn(10, latent_size).to(device)\n",
        "    fake_images = generator(z)\n",
        "    fake_images = fake_images.view(-1, 1, 28, 28)\n",
        "    fake_images = denorm(fake_images).cpu()\n",
        "\n",
        "for i in range(10):\n",
        "    axes[1, i].imshow(fake_images[i].squeeze(), cmap='gray')\n",
        "    axes[1, i].axis('off')\n",
        "    if i == 0:\n",
        "        axes[1, i].set_title('Generated Images', fontweight='bold',\n",
        "                              loc='left', fontsize=11, pad=10)\n",
        "\n",
        "plt.suptitle('Real MNIST Images vs GAN-Generated Images',\n",
        "             fontsize=14, fontweight='bold', y=1.02)\n",
        "plt.tight_layout()\n",
        "plt.show()\n",
        "\n",
        "generator.train()\n",
        "\n",
        "print(\"\\nVisual Comparison Complete\")\n",
        "print(\"Top Row:    Real MNIST training images\")\n",
        "print(\"Bottom Row: GAN-generated synthetic images\")\n",
        "print(\"=\" * 70)"
      ],
      "metadata": {
        "colab": {
          "base_uri": "https://localhost:8080/",
          "height": 526
        },
        "id": "g5JiIq9vhLkt",
        "outputId": "f006c626-d213-4ded-d952-488e91fee39e"
      },
      "execution_count": 18,
      "outputs": [
        {
          "output_type": "stream",
          "name": "stdout",
          "text": [
            "\n",
            "======================================================================\n",
            "REAL VS GENERATED IMAGE COMPARISON\n",
            "======================================================================\n"
          ]
        },
        {
          "output_type": "display_data",
          "data": {
            "text/plain": [
              "<Figure size 1600x400 with 20 Axes>"
            ],
            "image/png": "[encoded data removed]"
          },
          "metadata": {}
        },
        {
          "output_type": "stream",
          "name": "stdout",
          "text": [
            "\n",
            "Visual Comparison Complete\n",
            "Top Row:    Real MNIST training images\n",
            "Bottom Row: GAN-generated synthetic images\n",
            "======================================================================\n"
          ]
        }
      ]
    }
  ]
}