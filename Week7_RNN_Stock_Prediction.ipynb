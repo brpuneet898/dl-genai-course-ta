{
  "cells": [
    {
      "cell_type": "code",
      "source": [
        "import yfinance as yf"
      ],
      "metadata": {
        "id": "tVdGShaelmka"
      },
      "id": "tVdGShaelmka",
      "execution_count": 1,
      "outputs": []
    },
    {
      "cell_type": "code",
      "source": [
        "data_raw = yf.download('AMZN',period='5y',interval='1d')"
      ],
      "metadata": {
        "id": "Dvtiz3aWoLYY",
        "colab": {
          "base_uri": "https://localhost:8080/"
        },
        "outputId": "a4fb15e5-f8c9-4df5-e0c0-826c0c117f2b"
      },
      "id": "Dvtiz3aWoLYY",
      "execution_count": 2,
      "outputs": [
        {
          "output_type": "stream",
          "name": "stderr",
          "text": [
            "/tmp/ipython-input-1292485264.py:1: FutureWarning: YF.download() has changed argument auto_adjust default to True\n",
            "  data_raw = yf.download('AMZN',period='5y',interval='1d')\n",
            "[*********************100%***********************]  1 of 1 completed\n"
          ]
        }
      ]
    },
    {
      "cell_type": "code",
      "source": [
        "data_raw.head()"
      ],
      "metadata": {
        "colab": {
          "base_uri": "https://localhost:8080/",
          "height": 269
        },
        "id": "JGrQiC1d3Hxm",
        "outputId": "686aaeb4-4358-479f-8511-372112edbed0"
      },
      "id": "JGrQiC1d3Hxm",
      "execution_count": 3,
      "outputs": [
        {
          "output_type": "execute_result",
          "data": {
            "text/plain": [
              "Price            Close        High         Low        Open     Volume\n",
              "Ticker            AMZN        AMZN        AMZN        AMZN       AMZN\n",
              "Date                                                                 \n",
              "2020-11-02  150.223999  153.985504  147.505997  153.087006  145148000\n",
              "2020-11-03  152.420502  153.744995  149.048996  150.926498   97958000\n",
              "2020-11-04  162.057999  162.242493  156.986496  157.999496  136780000\n",
              "2020-11-05  166.100006  168.339996  164.444000  165.998505  115786000\n",
              "2020-11-06  165.568497  166.100006  161.600006  165.231995   92946000"
            ],
            "text/html": [
              "\n",
              "  <div id=\"df-b4a6ccb8-33d4-405f-a92d-b055e4967891\" class=\"colab-df-container\">\n",
              "    <div>\n",
              "<style scoped>\n",
              "    .dataframe tbody tr th:only-of-type {\n",
              "        vertical-align: middle;\n",
              "    }\n",
              "\n",
              "    .dataframe tbody tr th {\n",
              "        vertical-align: top;\n",
              "    }\n",
              "\n",
              "    .dataframe thead tr th {\n",
              "        text-align: left;\n",
              "    }\n",
              "\n",
              "    .dataframe thead tr:last-of-type th {\n",
              "        text-align: right;\n",
              "    }\n",
              "</style>\n",
              "<table border=\"1\" class=\"dataframe\">\n",
              "  <thead>\n",
              "    <tr>\n",
              "      <th>Price</th>\n",
              "      <th>Close</th>\n",
              "      <th>High</th>\n",
              "      <th>Low</th>\n",
              "      <th>Open</th>\n",
              "      <th>Volume</th>\n",
              "    </tr>\n",
              "    <tr>\n",
              "      <th>Ticker</th>\n",
              "      <th>AMZN</th>\n",
              "      <th>AMZN</th>\n",
              "      <th>AMZN</th>\n",
              "      <th>AMZN</th>\n",
              "      <th>AMZN</th>\n",
              "    </tr>\n",
              "    <tr>\n",
              "      <th>Date</th>\n",
              "      <th></th>\n",
              "      <th></th>\n",
              "      <th></th>\n",
              "      <th></th>\n",
              "      <th></th>\n",
              "    </tr>\n",
              "  </thead>\n",
              "  <tbody>\n",
              "    <tr>\n",
              "      <th>2020-11-02</th>\n",
              "      <td>150.223999</td>\n",
              "      <td>153.985504</td>\n",
              "      <td>147.505997</td>\n",
              "      <td>153.087006</td>\n",
              "      <td>145148000</td>\n",
              "    </tr>\n",
              "    <tr>\n",
              "      <th>2020-11-03</th>\n",
              "      <td>152.420502</td>\n",
              "      <td>153.744995</td>\n",
              "      <td>149.048996</td>\n",
              "      <td>150.926498</td>\n",
              "      <td>97958000</td>\n",
              "    </tr>\n",
              "    <tr>\n",
              "      <th>2020-11-04</th>\n",
              "      <td>162.057999</td>\n",
              "      <td>162.242493</td>\n",
              "      <td>156.986496</td>\n",
              "      <td>157.999496</td>\n",
              "      <td>136780000</td>\n",
              "    </tr>\n",
              "    <tr>\n",
              "      <th>2020-11-05</th>\n",
              "      <td>166.100006</td>\n",
              "      <td>168.339996</td>\n",
              "      <td>164.444000</td>\n",
              "      <td>165.998505</td>\n",
              "      <td>115786000</td>\n",
              "    </tr>\n",
              "    <tr>\n",
              "      <th>2020-11-06</th>\n",
              "      <td>165.568497</td>\n",
              "      <td>166.100006</td>\n",
              "      <td>161.600006</td>\n",
              "      <td>165.231995</td>\n",
              "      <td>92946000</td>\n",
              "    </tr>\n",
              "  </tbody>\n",
              "</table>\n",
              "</div>\n",
              "    <div class=\"colab-df-buttons\">\n",
              "\n",
              "  <div class=\"colab-df-container\">\n",
              "    <button class=\"colab-df-convert\" onclick=\"convertToInteractive('df-b4a6ccb8-33d4-405f-a92d-b055e4967891')\"\n",
              "            title=\"Convert this dataframe to an interactive table.\"\n",
              "            style=\"display:none;\">\n",
              "\n",
              "  <svg xmlns=\"http://www.w3.org/2000/svg\" height=\"24px\" viewBox=\"0 -960 960 960\">\n",
              "    <path d=\"M120-120v-720h720v720H120Zm60-500h600v-160H180v160Zm220 220h160v-160H400v160Zm0 220h160v-160H400v160ZM180-400h160v-160H180v160Zm440 0h160v-160H620v160ZM180-180h160v-160H180v160Zm440 0h160v-160H620v160Z\"/>\n",
              "  </svg>\n",
              "    </button>\n",
              "\n",
              "  <style>\n",
              "    .colab-df-container {\n",
              "      display:flex;\n",
              "      gap: 12px;\n",
              "    }\n",
              "\n",
              "    .colab-df-convert {\n",
              "      background-color: #E8F0FE;\n",
              "      border: none;\n",
              "      border-radius: 50%;\n",
              "      cursor: pointer;\n",
              "      display: none;\n",
              "      fill: #1967D2;\n",
              "      height: 32px;\n",
              "      padding: 0 0 0 0;\n",
              "      width: 32px;\n",
              "    }\n",
              "\n",
              "    .colab-df-convert:hover {\n",
              "      background-color: #E2EBFA;\n",
              "      box-shadow: 0px 1px 2px rgba(60, 64, 67, 0.3), 0px 1px 3px 1px rgba(60, 64, 67, 0.15);\n",
              "      fill: #174EA6;\n",
              "    }\n",
              "\n",
              "    .colab-df-buttons div {\n",
              "      margin-bottom: 4px;\n",
              "    }\n",
              "\n",
              "    [theme=dark] .colab-df-convert {\n",
              "      background-color: #3B4455;\n",
              "      fill: #D2E3FC;\n",
              "    }\n",
              "\n",
              "    [theme=dark] .colab-df-convert:hover {\n",
              "      background-color: #434B5C;\n",
              "      box-shadow: 0px 1px 3px 1px rgba(0, 0, 0, 0.15);\n",
              "      filter: drop-shadow(0px 1px 2px rgba(0, 0, 0, 0.3));\n",
              "      fill: #FFFFFF;\n",
              "    }\n",
              "  </style>\n",
              "\n",
              "    <script>\n",
              "      const buttonEl =\n",
              "        document.querySelector('#df-b4a6ccb8-33d4-405f-a92d-b055e4967891 button.colab-df-convert');\n",
              "      buttonEl.style.display =\n",
              "        google.colab.kernel.accessAllowed ? 'block' : 'none';\n",
              "\n",
              "      async function convertToInteractive(key) {\n",
              "        const element = document.querySelector('#df-b4a6ccb8-33d4-405f-a92d-b055e4967891');\n",
              "        const dataTable =\n",
              "          await google.colab.kernel.invokeFunction('convertToInteractive',\n",
              "                                                    [key], {});\n",
              "        if (!dataTable) return;\n",
              "\n",
              "        const docLinkHtml = 'Like what you see? Visit the ' +\n",
              "          '<a target=\"_blank\" href=https://colab.research.google.com/notebooks/data_table.ipynb>data table notebook</a>'\n",
              "          + ' to learn more about interactive tables.';\n",
              "        element.innerHTML = '';\n",
              "        dataTable['output_type'] = 'display_data';\n",
              "        await google.colab.output.renderOutput(dataTable, element);\n",
              "        const docLink = document.createElement('div');\n",
              "        docLink.innerHTML = docLinkHtml;\n",
              "        element.appendChild(docLink);\n",
              "      }\n",
              "    </script>\n",
              "  </div>\n",
              "\n",
              "\n",
              "    <div id=\"df-25d4cabc-1a50-4174-a902-43aa5d9b8d70\">\n",
              "      <button class=\"colab-df-quickchart\" onclick=\"quickchart('df-25d4cabc-1a50-4174-a902-43aa5d9b8d70')\"\n",
              "                title=\"Suggest charts\"\n",
              "                style=\"display:none;\">\n",
              "\n",
              "<svg xmlns=\"http://www.w3.org/2000/svg\" height=\"24px\"viewBox=\"0 0 24 24\"\n",
              "     width=\"24px\">\n",
              "    <g>\n",
              "        <path d=\"M19 3H5c-1.1 0-2 .9-2 2v14c0 1.1.9 2 2 2h14c1.1 0 2-.9 2-2V5c0-1.1-.9-2-2-2zM9 17H7v-7h2v7zm4 0h-2V7h2v10zm4 0h-2v-4h2v4z\"/>\n",
              "    </g>\n",
              "</svg>\n",
              "      </button>\n",
              "\n",
              "<style>\n",
              "  .colab-df-quickchart {\n",
              "      --bg-color: #E8F0FE;\n",
              "      --fill-color: #1967D2;\n",
              "      --hover-bg-color: #E2EBFA;\n",
              "      --hover-fill-color: #174EA6;\n",
              "      --disabled-fill-color: #AAA;\n",
              "      --disabled-bg-color: #DDD;\n",
              "  }\n",
              "\n",
              "  [theme=dark] .colab-df-quickchart {\n",
              "      --bg-color: #3B4455;\n",
              "      --fill-color: #D2E3FC;\n",
              "      --hover-bg-color: #434B5C;\n",
              "      --hover-fill-color: #FFFFFF;\n",
              "      --disabled-bg-color: #3B4455;\n",
              "      --disabled-fill-color: #666;\n",
              "  }\n",
              "\n",
              "  .colab-df-quickchart {\n",
              "    background-color: var(--bg-color);\n",
              "    border: none;\n",
              "    border-radius: 50%;\n",
              "    cursor: pointer;\n",
              "    display: none;\n",
              "    fill: var(--fill-color);\n",
              "    height: 32px;\n",
              "    padding: 0;\n",
              "    width: 32px;\n",
              "  }\n",
              "\n",
              "  .colab-df-quickchart:hover {\n",
              "    background-color: var(--hover-bg-color);\n",
              "    box-shadow: 0 1px 2px rgba(60, 64, 67, 0.3), 0 1px 3px 1px rgba(60, 64, 67, 0.15);\n",
              "    fill: var(--button-hover-fill-color);\n",
              "  }\n",
              "\n",
              "  .colab-df-quickchart-complete:disabled,\n",
              "  .colab-df-quickchart-complete:disabled:hover {\n",
              "    background-color: var(--disabled-bg-color);\n",
              "    fill: var(--disabled-fill-color);\n",
              "    box-shadow: none;\n",
              "  }\n",
              "\n",
              "  .colab-df-spinner {\n",
              "    border: 2px solid var(--fill-color);\n",
              "    border-color: transparent;\n",
              "    border-bottom-color: var(--fill-color);\n",
              "    animation:\n",
              "      spin 1s steps(1) infinite;\n",
              "  }\n",
              "\n",
              "  @keyframes spin {\n",
              "    0% {\n",
              "      border-color: transparent;\n",
              "      border-bottom-color: var(--fill-color);\n",
              "      border-left-color: var(--fill-color);\n",
              "    }\n",
              "    20% {\n",
              "      border-color: transparent;\n",
              "      border-left-color: var(--fill-color);\n",
              "      border-top-color: var(--fill-color);\n",
              "    }\n",
              "    30% {\n",
              "      border-color: transparent;\n",
              "      border-left-color: var(--fill-color);\n",
              "      border-top-color: var(--fill-color);\n",
              "      border-right-color: var(--fill-color);\n",
              "    }\n",
              "    40% {\n",
              "      border-color: transparent;\n",
              "      border-right-color: var(--fill-color);\n",
              "      border-top-color: var(--fill-color);\n",
              "    }\n",
              "    60% {\n",
              "      border-color: transparent;\n",
              "      border-right-color: var(--fill-color);\n",
              "    }\n",
              "    80% {\n",
              "      border-color: transparent;\n",
              "      border-right-color: var(--fill-color);\n",
              "      border-bottom-color: var(--fill-color);\n",
              "    }\n",
              "    90% {\n",
              "      border-color: transparent;\n",
              "      border-bottom-color: var(--fill-color);\n",
              "    }\n",
              "  }\n",
              "</style>\n",
              "\n",
              "      <script>\n",
              "        async function quickchart(key) {\n",
              "          const quickchartButtonEl =\n",
              "            document.querySelector('#' + key + ' button');\n",
              "          quickchartButtonEl.disabled = true;  // To prevent multiple clicks.\n",
              "          quickchartButtonEl.classList.add('colab-df-spinner');\n",
              "          try {\n",
              "            const charts = await google.colab.kernel.invokeFunction(\n",
              "                'suggestCharts', [key], {});\n",
              "          } catch (error) {\n",
              "            console.error('Error during call to suggestCharts:', error);\n",
              "          }\n",
              "          quickchartButtonEl.classList.remove('colab-df-spinner');\n",
              "          quickchartButtonEl.classList.add('colab-df-quickchart-complete');\n",
              "        }\n",
              "        (() => {\n",
              "          let quickchartButtonEl =\n",
              "            document.querySelector('#df-25d4cabc-1a50-4174-a902-43aa5d9b8d70 button');\n",
              "          quickchartButtonEl.style.display =\n",
              "            google.colab.kernel.accessAllowed ? 'block' : 'none';\n",
              "        })();\n",
              "      </script>\n",
              "    </div>\n",
              "\n",
              "    </div>\n",
              "  </div>\n"
            ],
            "application/vnd.google.colaboratory.intrinsic+json": {
              "type": "dataframe",
              "variable_name": "data_raw",
              "summary": "{\n  \"name\": \"data_raw\",\n  \"rows\": 1256,\n  \"fields\": [\n    {\n      \"column\": [\n        \"Date\",\n        \"\"\n      ],\n      \"properties\": {\n        \"dtype\": \"date\",\n        \"min\": \"2020-11-02 00:00:00\",\n        \"max\": \"2025-10-31 00:00:00\",\n        \"num_unique_values\": 1256,\n        \"samples\": [\n          \"2022-07-27 00:00:00\",\n          \"2021-03-30 00:00:00\",\n          \"2021-01-15 00:00:00\"\n        ],\n        \"semantic_type\": \"\",\n        \"description\": \"\"\n      }\n    },\n    {\n      \"column\": [\n        \"Close\",\n        \"AMZN\"\n      ],\n      \"properties\": {\n        \"dtype\": \"number\",\n        \"std\": 38.25379564049597,\n        \"min\": 81.81999969482422,\n        \"max\": 244.22000122070312,\n        \"num_unique_values\": 1222,\n        \"samples\": [\n          161.0500030517578,\n          109.22000122070312,\n          156.91900634765625\n        ],\n        \"semantic_type\": \"\",\n        \"description\": \"\"\n      }\n    },\n    {\n      \"column\": [\n        \"High\",\n        \"AMZN\"\n      ],\n      \"properties\": {\n        \"dtype\": \"number\",\n        \"std\": 38.401615626274335,\n        \"min\": 83.4800033569336,\n        \"max\": 250.5,\n        \"num_unique_values\": 1218,\n        \"samples\": [\n          90.19000244140625,\n          179.3625030517578,\n          161.16900634765625\n        ],\n        \"semantic_type\": \"\",\n        \"description\": \"\"\n      }\n    },\n    {\n      \"column\": [\n        \"Low\",\n        \"AMZN\"\n      ],\n      \"properties\": {\n        \"dtype\": \"number\",\n        \"std\": 38.066368262770354,\n        \"min\": 81.43000030517578,\n        \"max\": 243.97999572753906,\n        \"num_unique_values\": 1223,\n        \"samples\": [\n          125.91999816894531,\n          165.25050354003906,\n          168.02650451660156\n        ],\n        \"semantic_type\": \"\",\n        \"description\": \"\"\n      }\n    },\n    {\n      \"column\": [\n        \"Open\",\n        \"AMZN\"\n      ],\n      \"properties\": {\n        \"dtype\": \"number\",\n        \"std\": 38.29168774253154,\n        \"min\": 82.80000305175781,\n        \"max\": 250.1999969482422,\n        \"num_unique_values\": 1206,\n        \"samples\": [\n          153.2030029296875,\n          179.2519989013672,\n          156.88999938964844\n        ],\n        \"semantic_type\": \"\",\n        \"description\": \"\"\n      }\n    },\n    {\n      \"column\": [\n        \"Volume\",\n        \"AMZN\"\n      ],\n      \"properties\": {\n        \"dtype\": \"number\",\n        \"std\": 27572480,\n        \"min\": 15007500,\n        \"max\": 272662000,\n        \"num_unique_values\": 1251,\n        \"samples\": [\n          61482500,\n          44308500,\n          60897100\n        ],\n        \"semantic_type\": \"\",\n        \"description\": \"\"\n      }\n    }\n  ]\n}"
            }
          },
          "metadata": {},
          "execution_count": 3
        }
      ]
    },
    {
      "cell_type": "code",
      "source": [
        "data_raw.tail()"
      ],
      "metadata": {
        "colab": {
          "base_uri": "https://localhost:8080/",
          "height": 269
        },
        "id": "aWdhDxeL4wNR",
        "outputId": "e73d51d4-7e13-4a9e-c32c-f1a2b3665e7d"
      },
      "id": "aWdhDxeL4wNR",
      "execution_count": 4,
      "outputs": [
        {
          "output_type": "execute_result",
          "data": {
            "text/plain": [
              "Price            Close        High         Low        Open     Volume\n",
              "Ticker            AMZN        AMZN        AMZN        AMZN       AMZN\n",
              "Date                                                                 \n",
              "2025-10-27  226.970001  228.399994  225.539993  227.660004   38267000\n",
              "2025-10-28  229.250000  231.490005  226.210007  228.220001   47100000\n",
              "2025-10-29  230.300003  232.820007  227.759995  231.669998   52036200\n",
              "2025-10-30  222.860001  228.440002  222.750000  227.059998  102252900\n",
              "2025-10-31  244.220001  250.500000  243.979996  250.199997  166088899"
            ],
            "text/html": [
              "\n",
              "  <div id=\"df-60fb7033-d144-4ff0-a16d-1af355f9494f\" class=\"colab-df-container\">\n",
              "    <div>\n",
              "<style scoped>\n",
              "    .dataframe tbody tr th:only-of-type {\n",
              "        vertical-align: middle;\n",
              "    }\n",
              "\n",
              "    .dataframe tbody tr th {\n",
              "        vertical-align: top;\n",
              "    }\n",
              "\n",
              "    .dataframe thead tr th {\n",
              "        text-align: left;\n",
              "    }\n",
              "\n",
              "    .dataframe thead tr:last-of-type th {\n",
              "        text-align: right;\n",
              "    }\n",
              "</style>\n",
              "<table border=\"1\" class=\"dataframe\">\n",
              "  <thead>\n",
              "    <tr>\n",
              "      <th>Price</th>\n",
              "      <th>Close</th>\n",
              "      <th>High</th>\n",
              "      <th>Low</th>\n",
              "      <th>Open</th>\n",
              "      <th>Volume</th>\n",
              "    </tr>\n",
              "    <tr>\n",
              "      <th>Ticker</th>\n",
              "      <th>AMZN</th>\n",
              "      <th>AMZN</th>\n",
              "      <th>AMZN</th>\n",
              "      <th>AMZN</th>\n",
              "      <th>AMZN</th>\n",
              "    </tr>\n",
              "    <tr>\n",
              "      <th>Date</th>\n",
              "      <th></th>\n",
              "      <th></th>\n",
              "      <th></th>\n",
              "      <th></th>\n",
              "      <th></th>\n",
              "    </tr>\n",
              "  </thead>\n",
              "  <tbody>\n",
              "    <tr>\n",
              "      <th>2025-10-27</th>\n",
              "      <td>226.970001</td>\n",
              "      <td>228.399994</td>\n",
              "      <td>225.539993</td>\n",
              "      <td>227.660004</td>\n",
              "      <td>38267000</td>\n",
              "    </tr>\n",
              "    <tr>\n",
              "      <th>2025-10-28</th>\n",
              "      <td>229.250000</td>\n",
              "      <td>231.490005</td>\n",
              "      <td>226.210007</td>\n",
              "      <td>228.220001</td>\n",
              "      <td>47100000</td>\n",
              "    </tr>\n",
              "    <tr>\n",
              "      <th>2025-10-29</th>\n",
              "      <td>230.300003</td>\n",
              "      <td>232.820007</td>\n",
              "      <td>227.759995</td>\n",
              "      <td>231.669998</td>\n",
              "      <td>52036200</td>\n",
              "    </tr>\n",
              "    <tr>\n",
              "      <th>2025-10-30</th>\n",
              "      <td>222.860001</td>\n",
              "      <td>228.440002</td>\n",
              "      <td>222.750000</td>\n",
              "      <td>227.059998</td>\n",
              "      <td>102252900</td>\n",
              "    </tr>\n",
              "    <tr>\n",
              "      <th>2025-10-31</th>\n",
              "      <td>244.220001</td>\n",
              "      <td>250.500000</td>\n",
              "      <td>243.979996</td>\n",
              "      <td>250.199997</td>\n",
              "      <td>166088899</td>\n",
              "    </tr>\n",
              "  </tbody>\n",
              "</table>\n",
              "</div>\n",
              "    <div class=\"colab-df-buttons\">\n",
              "\n",
              "  <div class=\"colab-df-container\">\n",
              "    <button class=\"colab-df-convert\" onclick=\"convertToInteractive('df-60fb7033-d144-4ff0-a16d-1af355f9494f')\"\n",
              "            title=\"Convert this dataframe to an interactive table.\"\n",
              "            style=\"display:none;\">\n",
              "\n",
              "  <svg xmlns=\"http://www.w3.org/2000/svg\" height=\"24px\" viewBox=\"0 -960 960 960\">\n",
              "    <path d=\"M120-120v-720h720v720H120Zm60-500h600v-160H180v160Zm220 220h160v-160H400v160Zm0 220h160v-160H400v160ZM180-400h160v-160H180v160Zm440 0h160v-160H620v160ZM180-180h160v-160H180v160Zm440 0h160v-160H620v160Z\"/>\n",
              "  </svg>\n",
              "    </button>\n",
              "\n",
              "  <style>\n",
              "    .colab-df-container {\n",
              "      display:flex;\n",
              "      gap: 12px;\n",
              "    }\n",
              "\n",
              "    .colab-df-convert {\n",
              "      background-color: #E8F0FE;\n",
              "      border: none;\n",
              "      border-radius: 50%;\n",
              "      cursor: pointer;\n",
              "      display: none;\n",
              "      fill: #1967D2;\n",
              "      height: 32px;\n",
              "      padding: 0 0 0 0;\n",
              "      width: 32px;\n",
              "    }\n",
              "\n",
              "    .colab-df-convert:hover {\n",
              "      background-color: #E2EBFA;\n",
              "      box-shadow: 0px 1px 2px rgba(60, 64, 67, 0.3), 0px 1px 3px 1px rgba(60, 64, 67, 0.15);\n",
              "      fill: #174EA6;\n",
              "    }\n",
              "\n",
              "    .colab-df-buttons div {\n",
              "      margin-bottom: 4px;\n",
              "    }\n",
              "\n",
              "    [theme=dark] .colab-df-convert {\n",
              "      background-color: #3B4455;\n",
              "      fill: #D2E3FC;\n",
              "    }\n",
              "\n",
              "    [theme=dark] .colab-df-convert:hover {\n",
              "      background-color: #434B5C;\n",
              "      box-shadow: 0px 1px 3px 1px rgba(0, 0, 0, 0.15);\n",
              "      filter: drop-shadow(0px 1px 2px rgba(0, 0, 0, 0.3));\n",
              "      fill: #FFFFFF;\n",
              "    }\n",
              "  </style>\n",
              "\n",
              "    <script>\n",
              "      const buttonEl =\n",
              "        document.querySelector('#df-60fb7033-d144-4ff0-a16d-1af355f9494f button.colab-df-convert');\n",
              "      buttonEl.style.display =\n",
              "        google.colab.kernel.accessAllowed ? 'block' : 'none';\n",
              "\n",
              "      async function convertToInteractive(key) {\n",
              "        const element = document.querySelector('#df-60fb7033-d144-4ff0-a16d-1af355f9494f');\n",
              "        const dataTable =\n",
              "          await google.colab.kernel.invokeFunction('convertToInteractive',\n",
              "                                                    [key], {});\n",
              "        if (!dataTable) return;\n",
              "\n",
              "        const docLinkHtml = 'Like what you see? Visit the ' +\n",
              "          '<a target=\"_blank\" href=https://colab.research.google.com/notebooks/data_table.ipynb>data table notebook</a>'\n",
              "          + ' to learn more about interactive tables.';\n",
              "        element.innerHTML = '';\n",
              "        dataTable['output_type'] = 'display_data';\n",
              "        await google.colab.output.renderOutput(dataTable, element);\n",
              "        const docLink = document.createElement('div');\n",
              "        docLink.innerHTML = docLinkHtml;\n",
              "        element.appendChild(docLink);\n",
              "      }\n",
              "    </script>\n",
              "  </div>\n",
              "\n",
              "\n",
              "    <div id=\"df-37bdca3f-10d8-4632-a135-b70ad02b2672\">\n",
              "      <button class=\"colab-df-quickchart\" onclick=\"quickchart('df-37bdca3f-10d8-4632-a135-b70ad02b2672')\"\n",
              "                title=\"Suggest charts\"\n",
              "                style=\"display:none;\">\n",
              "\n",
              "<svg xmlns=\"http://www.w3.org/2000/svg\" height=\"24px\"viewBox=\"0 0 24 24\"\n",
              "     width=\"24px\">\n",
              "    <g>\n",
              "        <path d=\"M19 3H5c-1.1 0-2 .9-2 2v14c0 1.1.9 2 2 2h14c1.1 0 2-.9 2-2V5c0-1.1-.9-2-2-2zM9 17H7v-7h2v7zm4 0h-2V7h2v10zm4 0h-2v-4h2v4z\"/>\n",
              "    </g>\n",
              "</svg>\n",
              "      </button>\n",
              "\n",
              "<style>\n",
              "  .colab-df-quickchart {\n",
              "      --bg-color: #E8F0FE;\n",
              "      --fill-color: #1967D2;\n",
              "      --hover-bg-color: #E2EBFA;\n",
              "      --hover-fill-color: #174EA6;\n",
              "      --disabled-fill-color: #AAA;\n",
              "      --disabled-bg-color: #DDD;\n",
              "  }\n",
              "\n",
              "  [theme=dark] .colab-df-quickchart {\n",
              "      --bg-color: #3B4455;\n",
              "      --fill-color: #D2E3FC;\n",
              "      --hover-bg-color: #434B5C;\n",
              "      --hover-fill-color: #FFFFFF;\n",
              "      --disabled-bg-color: #3B4455;\n",
              "      --disabled-fill-color: #666;\n",
              "  }\n",
              "\n",
              "  .colab-df-quickchart {\n",
              "    background-color: var(--bg-color);\n",
              "    border: none;\n",
              "    border-radius: 50%;\n",
              "    cursor: pointer;\n",
              "    display: none;\n",
              "    fill: var(--fill-color);\n",
              "    height: 32px;\n",
              "    padding: 0;\n",
              "    width: 32px;\n",
              "  }\n",
              "\n",
              "  .colab-df-quickchart:hover {\n",
              "    background-color: var(--hover-bg-color);\n",
              "    box-shadow: 0 1px 2px rgba(60, 64, 67, 0.3), 0 1px 3px 1px rgba(60, 64, 67, 0.15);\n",
              "    fill: var(--button-hover-fill-color);\n",
              "  }\n",
              "\n",
              "  .colab-df-quickchart-complete:disabled,\n",
              "  .colab-df-quickchart-complete:disabled:hover {\n",
              "    background-color: var(--disabled-bg-color);\n",
              "    fill: var(--disabled-fill-color);\n",
              "    box-shadow: none;\n",
              "  }\n",
              "\n",
              "  .colab-df-spinner {\n",
              "    border: 2px solid var(--fill-color);\n",
              "    border-color: transparent;\n",
              "    border-bottom-color: var(--fill-color);\n",
              "    animation:\n",
              "      spin 1s steps(1) infinite;\n",
              "  }\n",
              "\n",
              "  @keyframes spin {\n",
              "    0% {\n",
              "      border-color: transparent;\n",
              "      border-bottom-color: var(--fill-color);\n",
              "      border-left-color: var(--fill-color);\n",
              "    }\n",
              "    20% {\n",
              "      border-color: transparent;\n",
              "      border-left-color: var(--fill-color);\n",
              "      border-top-color: var(--fill-color);\n",
              "    }\n",
              "    30% {\n",
              "      border-color: transparent;\n",
              "      border-left-color: var(--fill-color);\n",
              "      border-top-color: var(--fill-color);\n",
              "      border-right-color: var(--fill-color);\n",
              "    }\n",
              "    40% {\n",
              "      border-color: transparent;\n",
              "      border-right-color: var(--fill-color);\n",
              "      border-top-color: var(--fill-color);\n",
              "    }\n",
              "    60% {\n",
              "      border-color: transparent;\n",
              "      border-right-color: var(--fill-color);\n",
              "    }\n",
              "    80% {\n",
              "      border-color: transparent;\n",
              "      border-right-color: var(--fill-color);\n",
              "      border-bottom-color: var(--fill-color);\n",
              "    }\n",
              "    90% {\n",
              "      border-color: transparent;\n",
              "      border-bottom-color: var(--fill-color);\n",
              "    }\n",
              "  }\n",
              "</style>\n",
              "\n",
              "      <script>\n",
              "        async function quickchart(key) {\n",
              "          const quickchartButtonEl =\n",
              "            document.querySelector('#' + key + ' button');\n",
              "          quickchartButtonEl.disabled = true;  // To prevent multiple clicks.\n",
              "          quickchartButtonEl.classList.add('colab-df-spinner');\n",
              "          try {\n",
              "            const charts = await google.colab.kernel.invokeFunction(\n",
              "                'suggestCharts', [key], {});\n",
              "          } catch (error) {\n",
              "            console.error('Error during call to suggestCharts:', error);\n",
              "          }\n",
              "          quickchartButtonEl.classList.remove('colab-df-spinner');\n",
              "          quickchartButtonEl.classList.add('colab-df-quickchart-complete');\n",
              "        }\n",
              "        (() => {\n",
              "          let quickchartButtonEl =\n",
              "            document.querySelector('#df-37bdca3f-10d8-4632-a135-b70ad02b2672 button');\n",
              "          quickchartButtonEl.style.display =\n",
              "            google.colab.kernel.accessAllowed ? 'block' : 'none';\n",
              "        })();\n",
              "      </script>\n",
              "    </div>\n",
              "\n",
              "    </div>\n",
              "  </div>\n"
            ],
            "application/vnd.google.colaboratory.intrinsic+json": {
              "type": "dataframe",
              "summary": "{\n  \"name\": \"data_raw\",\n  \"rows\": 5,\n  \"fields\": [\n    {\n      \"column\": [\n        \"Date\",\n        \"\"\n      ],\n      \"properties\": {\n        \"dtype\": \"date\",\n        \"min\": \"2025-10-27 00:00:00\",\n        \"max\": \"2025-10-31 00:00:00\",\n        \"num_unique_values\": 5,\n        \"samples\": [\n          \"2025-10-28 00:00:00\",\n          \"2025-10-31 00:00:00\",\n          \"2025-10-29 00:00:00\"\n        ],\n        \"semantic_type\": \"\",\n        \"description\": \"\"\n      }\n    },\n    {\n      \"column\": [\n        \"Close\",\n        \"AMZN\"\n      ],\n      \"properties\": {\n        \"dtype\": \"number\",\n        \"std\": 8.068912746546356,\n        \"min\": 222.86000061035156,\n        \"max\": 244.22000122070312,\n        \"num_unique_values\": 5,\n        \"samples\": [\n          229.25,\n          244.22000122070312,\n          230.3000030517578\n        ],\n        \"semantic_type\": \"\",\n        \"description\": \"\"\n      }\n    },\n    {\n      \"column\": [\n        \"High\",\n        \"AMZN\"\n      ],\n      \"properties\": {\n        \"dtype\": \"number\",\n        \"std\": 9.24218034756582,\n        \"min\": 228.39999389648438,\n        \"max\": 250.5,\n        \"num_unique_values\": 5,\n        \"samples\": [\n          231.49000549316406,\n          250.5,\n          232.82000732421875\n        ],\n        \"semantic_type\": \"\",\n        \"description\": \"\"\n      }\n    },\n    {\n      \"column\": [\n        \"Low\",\n        \"AMZN\"\n      ],\n      \"properties\": {\n        \"dtype\": \"number\",\n        \"std\": 8.432801720966893,\n        \"min\": 222.75,\n        \"max\": 243.97999572753906,\n        \"num_unique_values\": 5,\n        \"samples\": [\n          226.2100067138672,\n          243.97999572753906,\n          227.75999450683594\n        ],\n        \"semantic_type\": \"\",\n        \"description\": \"\"\n      }\n    },\n    {\n      \"column\": [\n        \"Open\",\n        \"AMZN\"\n      ],\n      \"properties\": {\n        \"dtype\": \"number\",\n        \"std\": 9.80113715248489,\n        \"min\": 227.05999755859375,\n        \"max\": 250.1999969482422,\n        \"num_unique_values\": 5,\n        \"samples\": [\n          228.22000122070312,\n          250.1999969482422,\n          231.6699981689453\n        ],\n        \"semantic_type\": \"\",\n        \"description\": \"\"\n      }\n    },\n    {\n      \"column\": [\n        \"Volume\",\n        \"AMZN\"\n      ],\n      \"properties\": {\n        \"dtype\": \"number\",\n        \"std\": 53632817,\n        \"min\": 38267000,\n        \"max\": 166088899,\n        \"num_unique_values\": 5,\n        \"samples\": [\n          47100000,\n          166088899,\n          52036200\n        ],\n        \"semantic_type\": \"\",\n        \"description\": \"\"\n      }\n    }\n  ]\n}"
            }
          },
          "metadata": {},
          "execution_count": 4
        }
      ]
    },
    {
      "cell_type": "code",
      "execution_count": 5,
      "id": "2a4fdd0f",
      "metadata": {
        "id": "2a4fdd0f"
      },
      "outputs": [],
      "source": [
        "import pandas as pd\n",
        "import numpy as np\n",
        "import matplotlib.pyplot as plt\n",
        "import torch\n",
        "import torch.nn as nn"
      ]
    },
    {
      "cell_type": "code",
      "source": [
        "data = data_raw[['Close']].copy()\n",
        "data.reset_index(inplace=True)\n",
        "data.rename(columns={'index': 'Date'}, inplace=True)"
      ],
      "metadata": {
        "id": "BJHrYlGiot6b"
      },
      "id": "BJHrYlGiot6b",
      "execution_count": 6,
      "outputs": []
    },
    {
      "cell_type": "code",
      "source": [
        "print(data)"
      ],
      "metadata": {
        "colab": {
          "base_uri": "https://localhost:8080/"
        },
        "id": "WtCP8-cDbg9R",
        "outputId": "29dc71d2-0956-4ab7-b1c6-e9bcedec78ea"
      },
      "id": "WtCP8-cDbg9R",
      "execution_count": 7,
      "outputs": [
        {
          "output_type": "stream",
          "name": "stdout",
          "text": [
            "Price        Date       Close\n",
            "Ticker                   AMZN\n",
            "0      2020-11-02  150.223999\n",
            "1      2020-11-03  152.420502\n",
            "2      2020-11-04  162.057999\n",
            "3      2020-11-05  166.100006\n",
            "4      2020-11-06  165.568497\n",
            "...           ...         ...\n",
            "1251   2025-10-27  226.970001\n",
            "1252   2025-10-28  229.250000\n",
            "1253   2025-10-29  230.300003\n",
            "1254   2025-10-30  222.860001\n",
            "1255   2025-10-31  244.220001\n",
            "\n",
            "[1256 rows x 2 columns]\n"
          ]
        }
      ]
    },
    {
      "cell_type": "code",
      "source": [
        "device = 'cuda:0' if torch.cuda.is_available() else 'cpu'\n",
        "device"
      ],
      "metadata": {
        "colab": {
          "base_uri": "https://localhost:8080/",
          "height": 36
        },
        "id": "9akB333XcFJ6",
        "outputId": "9d4f8fc3-3d77-4e53-e921-1f78a921a9a6"
      },
      "id": "9akB333XcFJ6",
      "execution_count": 8,
      "outputs": [
        {
          "output_type": "execute_result",
          "data": {
            "text/plain": [
              "'cpu'"
            ],
            "application/vnd.google.colaboratory.intrinsic+json": {
              "type": "string"
            }
          },
          "metadata": {},
          "execution_count": 8
        }
      ]
    },
    {
      "cell_type": "code",
      "source": [
        "data['Date'] = pd.to_datetime(data['Date'])\n",
        "plt.plot(data['Date'], data['Close'])"
      ],
      "metadata": {
        "colab": {
          "base_uri": "https://localhost:8080/",
          "height": 447
        },
        "id": "tr2YuqKGcXcJ",
        "outputId": "514fa40c-7873-4bab-8216-e94b4b5c5c91"
      },
      "id": "tr2YuqKGcXcJ",
      "execution_count": 9,
      "outputs": [
        {
          "output_type": "execute_result",
          "data": {
            "text/plain": [
              "[<matplotlib.lines.Line2D at 0x7c8c54bf2ba0>]"
            ]
          },
          "metadata": {},
          "execution_count": 9
        },
        {
          "output_type": "display_data",
          "data": {
            "text/plain": [
              "<Figure size 640x480 with 1 Axes>"
            ],
            "image/png": "[encoded data removed]"
          },
          "metadata": {}
        }
      ]
    },
    {
      "cell_type": "code",
      "source": [
        "from copy import deepcopy as dc\n",
        "\n",
        "def prepare_dataframe_for_lstm(df, n_steps):\n",
        "    df = dc(df)\n",
        "    df.set_index('Date', inplace=True)\n",
        "    for i in range(1, n_steps+1):\n",
        "        df[f'Close(t-{i})'] = df['Close'].shift(i)\n",
        "\n",
        "    df.dropna(inplace=True)\n",
        "\n",
        "    return df\n",
        "\n",
        "lookback = 7\n",
        "shifted_df = prepare_dataframe_for_lstm(data, lookback)\n",
        "shifted_df"
      ],
      "metadata": {
        "colab": {
          "base_uri": "https://localhost:8080/",
          "height": 486
        },
        "id": "Q4ma6QCscwfB",
        "outputId": "90aff717-8817-4156-c409-22b583b2e06e"
      },
      "id": "Q4ma6QCscwfB",
      "execution_count": 10,
      "outputs": [
        {
          "output_type": "execute_result",
          "data": {
            "text/plain": [
              "Price            Close  Close(t-1)  Close(t-2)  Close(t-3)  Close(t-4)  \\\n",
              "Ticker            AMZN                                                   \n",
              "Date                                                                     \n",
              "2020-11-11  156.869507  151.751007  157.186996  165.568497  166.100006   \n",
              "2020-11-12  155.514008  156.869507  151.751007  157.186996  165.568497   \n",
              "2020-11-13  156.440506  155.514008  156.869507  151.751007  157.186996   \n",
              "2020-11-16  156.552994  156.440506  155.514008  156.869507  151.751007   \n",
              "2020-11-17  156.783005  156.552994  156.440506  155.514008  156.869507   \n",
              "...                ...         ...         ...         ...         ...   \n",
              "2025-10-27  226.970001  224.210007  221.089996  217.949997  222.029999   \n",
              "2025-10-28  229.250000  226.970001  224.210007  221.089996  217.949997   \n",
              "2025-10-29  230.300003  229.250000  226.970001  224.210007  221.089996   \n",
              "2025-10-30  222.860001  230.300003  229.250000  226.970001  224.210007   \n",
              "2025-10-31  244.220001  222.860001  230.300003  229.250000  226.970001   \n",
              "\n",
              "Price       Close(t-5)  Close(t-6)  Close(t-7)  \n",
              "Ticker                                          \n",
              "Date                                            \n",
              "2020-11-11  162.057999  152.420502  150.223999  \n",
              "2020-11-12  166.100006  162.057999  152.420502  \n",
              "2020-11-13  165.568497  166.100006  162.057999  \n",
              "2020-11-16  157.186996  165.568497  166.100006  \n",
              "2020-11-17  151.751007  157.186996  165.568497  \n",
              "...                ...         ...         ...  \n",
              "2025-10-27  216.479996  213.039993  214.470001  \n",
              "2025-10-28  222.029999  216.479996  213.039993  \n",
              "2025-10-29  217.949997  222.029999  216.479996  \n",
              "2025-10-30  221.089996  217.949997  222.029999  \n",
              "2025-10-31  224.210007  221.089996  217.949997  \n",
              "\n",
              "[1249 rows x 8 columns]"
            ],
            "text/html": [
              "\n",
              "  <div id=\"df-3f675a4a-c8cf-4a70-93b8-c2f238018475\" class=\"colab-df-container\">\n",
              "    <div>\n",
              "<style scoped>\n",
              "    .dataframe tbody tr th:only-of-type {\n",
              "        vertical-align: middle;\n",
              "    }\n",
              "\n",
              "    .dataframe tbody tr th {\n",
              "        vertical-align: top;\n",
              "    }\n",
              "\n",
              "    .dataframe thead tr th {\n",
              "        text-align: left;\n",
              "    }\n",
              "\n",
              "    .dataframe thead tr:last-of-type th {\n",
              "        text-align: right;\n",
              "    }\n",
              "</style>\n",
              "<table border=\"1\" class=\"dataframe\">\n",
              "  <thead>\n",
              "    <tr>\n",
              "      <th>Price</th>\n",
              "      <th>Close</th>\n",
              "      <th>Close(t-1)</th>\n",
              "      <th>Close(t-2)</th>\n",
              "      <th>Close(t-3)</th>\n",
              "      <th>Close(t-4)</th>\n",
              "      <th>Close(t-5)</th>\n",
              "      <th>Close(t-6)</th>\n",
              "      <th>Close(t-7)</th>\n",
              "    </tr>\n",
              "    <tr>\n",
              "      <th>Ticker</th>\n",
              "      <th>AMZN</th>\n",
              "      <th></th>\n",
              "      <th></th>\n",
              "      <th></th>\n",
              "      <th></th>\n",
              "      <th></th>\n",
              "      <th></th>\n",
              "      <th></th>\n",
              "    </tr>\n",
              "    <tr>\n",
              "      <th>Date</th>\n",
              "      <th></th>\n",
              "      <th></th>\n",
              "      <th></th>\n",
              "      <th></th>\n",
              "      <th></th>\n",
              "      <th></th>\n",
              "      <th></th>\n",
              "      <th></th>\n",
              "    </tr>\n",
              "  </thead>\n",
              "  <tbody>\n",
              "    <tr>\n",
              "      <th>2020-11-11</th>\n",
              "      <td>156.869507</td>\n",
              "      <td>151.751007</td>\n",
              "      <td>157.186996</td>\n",
              "      <td>165.568497</td>\n",
              "      <td>166.100006</td>\n",
              "      <td>162.057999</td>\n",
              "      <td>152.420502</td>\n",
              "      <td>150.223999</td>\n",
              "    </tr>\n",
              "    <tr>\n",
              "      <th>2020-11-12</th>\n",
              "      <td>155.514008</td>\n",
              "      <td>156.869507</td>\n",
              "      <td>151.751007</td>\n",
              "      <td>157.186996</td>\n",
              "      <td>165.568497</td>\n",
              "      <td>166.100006</td>\n",
              "      <td>162.057999</td>\n",
              "      <td>152.420502</td>\n",
              "    </tr>\n",
              "    <tr>\n",
              "      <th>2020-11-13</th>\n",
              "      <td>156.440506</td>\n",
              "      <td>155.514008</td>\n",
              "      <td>156.869507</td>\n",
              "      <td>151.751007</td>\n",
              "      <td>157.186996</td>\n",
              "      <td>165.568497</td>\n",
              "      <td>166.100006</td>\n",
              "      <td>162.057999</td>\n",
              "    </tr>\n",
              "    <tr>\n",
              "      <th>2020-11-16</th>\n",
              "      <td>156.552994</td>\n",
              "      <td>156.440506</td>\n",
              "      <td>155.514008</td>\n",
              "      <td>156.869507</td>\n",
              "      <td>151.751007</td>\n",
              "      <td>157.186996</td>\n",
              "      <td>165.568497</td>\n",
              "      <td>166.100006</td>\n",
              "    </tr>\n",
              "    <tr>\n",
              "      <th>2020-11-17</th>\n",
              "      <td>156.783005</td>\n",
              "      <td>156.552994</td>\n",
              "      <td>156.440506</td>\n",
              "      <td>155.514008</td>\n",
              "      <td>156.869507</td>\n",
              "      <td>151.751007</td>\n",
              "      <td>157.186996</td>\n",
              "      <td>165.568497</td>\n",
              "    </tr>\n",
              "    <tr>\n",
              "      <th>...</th>\n",
              "      <td>...</td>\n",
              "      <td>...</td>\n",
              "      <td>...</td>\n",
              "      <td>...</td>\n",
              "      <td>...</td>\n",
              "      <td>...</td>\n",
              "      <td>...</td>\n",
              "      <td>...</td>\n",
              "    </tr>\n",
              "    <tr>\n",
              "      <th>2025-10-27</th>\n",
              "      <td>226.970001</td>\n",
              "      <td>224.210007</td>\n",
              "      <td>221.089996</td>\n",
              "      <td>217.949997</td>\n",
              "      <td>222.029999</td>\n",
              "      <td>216.479996</td>\n",
              "      <td>213.039993</td>\n",
              "      <td>214.470001</td>\n",
              "    </tr>\n",
              "    <tr>\n",
              "      <th>2025-10-28</th>\n",
              "      <td>229.250000</td>\n",
              "      <td>226.970001</td>\n",
              "      <td>224.210007</td>\n",
              "      <td>221.089996</td>\n",
              "      <td>217.949997</td>\n",
              "      <td>222.029999</td>\n",
              "      <td>216.479996</td>\n",
              "      <td>213.039993</td>\n",
              "    </tr>\n",
              "    <tr>\n",
              "      <th>2025-10-29</th>\n",
              "      <td>230.300003</td>\n",
              "      <td>229.250000</td>\n",
              "      <td>226.970001</td>\n",
              "      <td>224.210007</td>\n",
              "      <td>221.089996</td>\n",
              "      <td>217.949997</td>\n",
              "      <td>222.029999</td>\n",
              "      <td>216.479996</td>\n",
              "    </tr>\n",
              "    <tr>\n",
              "      <th>2025-10-30</th>\n",
              "      <td>222.860001</td>\n",
              "      <td>230.300003</td>\n",
              "      <td>229.250000</td>\n",
              "      <td>226.970001</td>\n",
              "      <td>224.210007</td>\n",
              "      <td>221.089996</td>\n",
              "      <td>217.949997</td>\n",
              "      <td>222.029999</td>\n",
              "    </tr>\n",
              "    <tr>\n",
              "      <th>2025-10-31</th>\n",
              "      <td>244.220001</td>\n",
              "      <td>222.860001</td>\n",
              "      <td>230.300003</td>\n",
              "      <td>229.250000</td>\n",
              "      <td>226.970001</td>\n",
              "      <td>224.210007</td>\n",
              "      <td>221.089996</td>\n",
              "      <td>217.949997</td>\n",
              "    </tr>\n",
              "  </tbody>\n",
              "</table>\n",
              "<p>1249 rows × 8 columns</p>\n",
              "</div>\n",
              "    <div class=\"colab-df-buttons\">\n",
              "\n",
              "  <div class=\"colab-df-container\">\n",
              "    <button class=\"colab-df-convert\" onclick=\"convertToInteractive('df-3f675a4a-c8cf-4a70-93b8-c2f238018475')\"\n",
              "            title=\"Convert this dataframe to an interactive table.\"\n",
              "            style=\"display:none;\">\n",
              "\n",
              "  <svg xmlns=\"http://www.w3.org/2000/svg\" height=\"24px\" viewBox=\"0 -960 960 960\">\n",
              "    <path d=\"M120-120v-720h720v720H120Zm60-500h600v-160H180v160Zm220 220h160v-160H400v160Zm0 220h160v-160H400v160ZM180-400h160v-160H180v160Zm440 0h160v-160H620v160ZM180-180h160v-160H180v160Zm440 0h160v-160H620v160Z\"/>\n",
              "  </svg>\n",
              "    </button>\n",
              "\n",
              "  <style>\n",
              "    .colab-df-container {\n",
              "      display:flex;\n",
              "      gap: 12px;\n",
              "    }\n",
              "\n",
              "    .colab-df-convert {\n",
              "      background-color: #E8F0FE;\n",
              "      border: none;\n",
              "      border-radius: 50%;\n",
              "      cursor: pointer;\n",
              "      display: none;\n",
              "      fill: #1967D2;\n",
              "      height: 32px;\n",
              "      padding: 0 0 0 0;\n",
              "      width: 32px;\n",
              "    }\n",
              "\n",
              "    .colab-df-convert:hover {\n",
              "      background-color: #E2EBFA;\n",
              "      box-shadow: 0px 1px 2px rgba(60, 64, 67, 0.3), 0px 1px 3px 1px rgba(60, 64, 67, 0.15);\n",
              "      fill: #174EA6;\n",
              "    }\n",
              "\n",
              "    .colab-df-buttons div {\n",
              "      margin-bottom: 4px;\n",
              "    }\n",
              "\n",
              "    [theme=dark] .colab-df-convert {\n",
              "      background-color: #3B4455;\n",
              "      fill: #D2E3FC;\n",
              "    }\n",
              "\n",
              "    [theme=dark] .colab-df-convert:hover {\n",
              "      background-color: #434B5C;\n",
              "      box-shadow: 0px 1px 3px 1px rgba(0, 0, 0, 0.15);\n",
              "      filter: drop-shadow(0px 1px 2px rgba(0, 0, 0, 0.3));\n",
              "      fill: #FFFFFF;\n",
              "    }\n",
              "  </style>\n",
              "\n",
              "    <script>\n",
              "      const buttonEl =\n",
              "        document.querySelector('#df-3f675a4a-c8cf-4a70-93b8-c2f238018475 button.colab-df-convert');\n",
              "      buttonEl.style.display =\n",
              "        google.colab.kernel.accessAllowed ? 'block' : 'none';\n",
              "\n",
              "      async function convertToInteractive(key) {\n",
              "        const element = document.querySelector('#df-3f675a4a-c8cf-4a70-93b8-c2f238018475');\n",
              "        const dataTable =\n",
              "          await google.colab.kernel.invokeFunction('convertToInteractive',\n",
              "                                                    [key], {});\n",
              "        if (!dataTable) return;\n",
              "\n",
              "        const docLinkHtml = 'Like what you see? Visit the ' +\n",
              "          '<a target=\"_blank\" href=https://colab.research.google.com/notebooks/data_table.ipynb>data table notebook</a>'\n",
              "          + ' to learn more about interactive tables.';\n",
              "        element.innerHTML = '';\n",
              "        dataTable['output_type'] = 'display_data';\n",
              "        await google.colab.output.renderOutput(dataTable, element);\n",
              "        const docLink = document.createElement('div');\n",
              "        docLink.innerHTML = docLinkHtml;\n",
              "        element.appendChild(docLink);\n",
              "      }\n",
              "    </script>\n",
              "  </div>\n",
              "\n",
              "\n",
              "    <div id=\"df-9d5a5a58-00a3-4faf-92c5-187ce5240253\">\n",
              "      <button class=\"colab-df-quickchart\" onclick=\"quickchart('df-9d5a5a58-00a3-4faf-92c5-187ce5240253')\"\n",
              "                title=\"Suggest charts\"\n",
              "                style=\"display:none;\">\n",
              "\n",
              "<svg xmlns=\"http://www.w3.org/2000/svg\" height=\"24px\"viewBox=\"0 0 24 24\"\n",
              "     width=\"24px\">\n",
              "    <g>\n",
              "        <path d=\"M19 3H5c-1.1 0-2 .9-2 2v14c0 1.1.9 2 2 2h14c1.1 0 2-.9 2-2V5c0-1.1-.9-2-2-2zM9 17H7v-7h2v7zm4 0h-2V7h2v10zm4 0h-2v-4h2v4z\"/>\n",
              "    </g>\n",
              "</svg>\n",
              "      </button>\n",
              "\n",
              "<style>\n",
              "  .colab-df-quickchart {\n",
              "      --bg-color: #E8F0FE;\n",
              "      --fill-color: #1967D2;\n",
              "      --hover-bg-color: #E2EBFA;\n",
              "      --hover-fill-color: #174EA6;\n",
              "      --disabled-fill-color: #AAA;\n",
              "      --disabled-bg-color: #DDD;\n",
              "  }\n",
              "\n",
              "  [theme=dark] .colab-df-quickchart {\n",
              "      --bg-color: #3B4455;\n",
              "      --fill-color: #D2E3FC;\n",
              "      --hover-bg-color: #434B5C;\n",
              "      --hover-fill-color: #FFFFFF;\n",
              "      --disabled-bg-color: #3B4455;\n",
              "      --disabled-fill-color: #666;\n",
              "  }\n",
              "\n",
              "  .colab-df-quickchart {\n",
              "    background-color: var(--bg-color);\n",
              "    border: none;\n",
              "    border-radius: 50%;\n",
              "    cursor: pointer;\n",
              "    display: none;\n",
              "    fill: var(--fill-color);\n",
              "    height: 32px;\n",
              "    padding: 0;\n",
              "    width: 32px;\n",
              "  }\n",
              "\n",
              "  .colab-df-quickchart:hover {\n",
              "    background-color: var(--hover-bg-color);\n",
              "    box-shadow: 0 1px 2px rgba(60, 64, 67, 0.3), 0 1px 3px 1px rgba(60, 64, 67, 0.15);\n",
              "    fill: var(--button-hover-fill-color);\n",
              "  }\n",
              "\n",
              "  .colab-df-quickchart-complete:disabled,\n",
              "  .colab-df-quickchart-complete:disabled:hover {\n",
              "    background-color: var(--disabled-bg-color);\n",
              "    fill: var(--disabled-fill-color);\n",
              "    box-shadow: none;\n",
              "  }\n",
              "\n",
              "  .colab-df-spinner {\n",
              "    border: 2px solid var(--fill-color);\n",
              "    border-color: transparent;\n",
              "    border-bottom-color: var(--fill-color);\n",
              "    animation:\n",
              "      spin 1s steps(1) infinite;\n",
              "  }\n",
              "\n",
              "  @keyframes spin {\n",
              "    0% {\n",
              "      border-color: transparent;\n",
              "      border-bottom-color: var(--fill-color);\n",
              "      border-left-color: var(--fill-color);\n",
              "    }\n",
              "    20% {\n",
              "      border-color: transparent;\n",
              "      border-left-color: var(--fill-color);\n",
              "      border-top-color: var(--fill-color);\n",
              "    }\n",
              "    30% {\n",
              "      border-color: transparent;\n",
              "      border-left-color: var(--fill-color);\n",
              "      border-top-color: var(--fill-color);\n",
              "      border-right-color: var(--fill-color);\n",
              "    }\n",
              "    40% {\n",
              "      border-color: transparent;\n",
              "      border-right-color: var(--fill-color);\n",
              "      border-top-color: var(--fill-color);\n",
              "    }\n",
              "    60% {\n",
              "      border-color: transparent;\n",
              "      border-right-color: var(--fill-color);\n",
              "    }\n",
              "    80% {\n",
              "      border-color: transparent;\n",
              "      border-right-color: var(--fill-color);\n",
              "      border-bottom-color: var(--fill-color);\n",
              "    }\n",
              "    90% {\n",
              "      border-color: transparent;\n",
              "      border-bottom-color: var(--fill-color);\n",
              "    }\n",
              "  }\n",
              "</style>\n",
              "\n",
              "      <script>\n",
              "        async function quickchart(key) {\n",
              "          const quickchartButtonEl =\n",
              "            document.querySelector('#' + key + ' button');\n",
              "          quickchartButtonEl.disabled = true;  // To prevent multiple clicks.\n",
              "          quickchartButtonEl.classList.add('colab-df-spinner');\n",
              "          try {\n",
              "            const charts = await google.colab.kernel.invokeFunction(\n",
              "                'suggestCharts', [key], {});\n",
              "          } catch (error) {\n",
              "            console.error('Error during call to suggestCharts:', error);\n",
              "          }\n",
              "          quickchartButtonEl.classList.remove('colab-df-spinner');\n",
              "          quickchartButtonEl.classList.add('colab-df-quickchart-complete');\n",
              "        }\n",
              "        (() => {\n",
              "          let quickchartButtonEl =\n",
              "            document.querySelector('#df-9d5a5a58-00a3-4faf-92c5-187ce5240253 button');\n",
              "          quickchartButtonEl.style.display =\n",
              "            google.colab.kernel.accessAllowed ? 'block' : 'none';\n",
              "        })();\n",
              "      </script>\n",
              "    </div>\n",
              "\n",
              "  <div id=\"id_009a85e9-6ab7-429f-8319-87d67de232bb\">\n",
              "    <style>\n",
              "      .colab-df-generate {\n",
              "        background-color: #E8F0FE;\n",
              "        border: none;\n",
              "        border-radius: 50%;\n",
              "        cursor: pointer;\n",
              "        display: none;\n",
              "        fill: #1967D2;\n",
              "        height: 32px;\n",
              "        padding: 0 0 0 0;\n",
              "        width: 32px;\n",
              "      }\n",
              "\n",
              "      .colab-df-generate:hover {\n",
              "        background-color: #E2EBFA;\n",
              "        box-shadow: 0px 1px 2px rgba(60, 64, 67, 0.3), 0px 1px 3px 1px rgba(60, 64, 67, 0.15);\n",
              "        fill: #174EA6;\n",
              "      }\n",
              "\n",
              "      [theme=dark] .colab-df-generate {\n",
              "        background-color: #3B4455;\n",
              "        fill: #D2E3FC;\n",
              "      }\n",
              "\n",
              "      [theme=dark] .colab-df-generate:hover {\n",
              "        background-color: #434B5C;\n",
              "        box-shadow: 0px 1px 3px 1px rgba(0, 0, 0, 0.15);\n",
              "        filter: drop-shadow(0px 1px 2px rgba(0, 0, 0, 0.3));\n",
              "        fill: #FFFFFF;\n",
              "      }\n",
              "    </style>\n",
              "    <button class=\"colab-df-generate\" onclick=\"generateWithVariable('shifted_df')\"\n",
              "            title=\"Generate code using this dataframe.\"\n",
              "            style=\"display:none;\">\n",
              "\n",
              "  <svg xmlns=\"http://www.w3.org/2000/svg\" height=\"24px\"viewBox=\"0 0 24 24\"\n",
              "       width=\"24px\">\n",
              "    <path d=\"M7,19H8.4L18.45,9,17,7.55,7,17.6ZM5,21V16.75L18.45,3.32a2,2,0,0,1,2.83,0l1.4,1.43a1.91,1.91,0,0,1,.58,1.4,1.91,1.91,0,0,1-.58,1.4L9.25,21ZM18.45,9,17,7.55Zm-12,3A5.31,5.31,0,0,0,4.9,8.1,5.31,5.31,0,0,0,1,6.5,5.31,5.31,0,0,0,4.9,4.9,5.31,5.31,0,0,0,6.5,1,5.31,5.31,0,0,0,8.1,4.9,5.31,5.31,0,0,0,12,6.5,5.46,5.46,0,0,0,6.5,12Z\"/>\n",
              "  </svg>\n",
              "    </button>\n",
              "    <script>\n",
              "      (() => {\n",
              "      const buttonEl =\n",
              "        document.querySelector('#id_009a85e9-6ab7-429f-8319-87d67de232bb button.colab-df-generate');\n",
              "      buttonEl.style.display =\n",
              "        google.colab.kernel.accessAllowed ? 'block' : 'none';\n",
              "\n",
              "      buttonEl.onclick = () => {\n",
              "        google.colab.notebook.generateWithVariable('shifted_df');\n",
              "      }\n",
              "      })();\n",
              "    </script>\n",
              "  </div>\n",
              "\n",
              "    </div>\n",
              "  </div>\n"
            ],
            "application/vnd.google.colaboratory.intrinsic+json": {
              "type": "dataframe",
              "variable_name": "shifted_df",
              "summary": "{\n  \"name\": \"shifted_df\",\n  \"rows\": 1249,\n  \"fields\": [\n    {\n      \"column\": [\n        \"Date\",\n        \"\"\n      ],\n      \"properties\": {\n        \"dtype\": \"date\",\n        \"min\": \"2020-11-11 00:00:00\",\n        \"max\": \"2025-10-31 00:00:00\",\n        \"num_unique_values\": 1249,\n        \"samples\": [\n          \"2023-07-27 00:00:00\",\n          \"2025-01-17 00:00:00\",\n          \"2024-06-13 00:00:00\"\n        ],\n        \"semantic_type\": \"\",\n        \"description\": \"\"\n      }\n    },\n    {\n      \"column\": [\n        \"Close\",\n        \"AMZN\"\n      ],\n      \"properties\": {\n        \"dtype\": \"number\",\n        \"std\": 38.357402300810556,\n        \"min\": 81.81999969482422,\n        \"max\": 244.22000122070312,\n        \"num_unique_values\": 1216,\n        \"samples\": [\n          89.87000274658203,\n          178.6284942626953,\n          156.37350463867188\n        ],\n        \"semantic_type\": \"\",\n        \"description\": \"\"\n      }\n    },\n    {\n      \"column\": [\n        \"Close(t-1)\",\n        \"\"\n      ],\n      \"properties\": {\n        \"dtype\": \"number\",\n        \"std\": 38.2858256107504,\n        \"min\": 81.81999969482422,\n        \"max\": 242.05999755859375,\n        \"num_unique_values\": 1216,\n        \"samples\": [\n          87.36000061035156,\n          183.82850646972656,\n          158.29449462890625\n        ],\n        \"semantic_type\": \"\",\n        \"description\": \"\"\n      }\n    },\n    {\n      \"column\": [\n        \"Close(t-2)\",\n        \"\"\n      ],\n      \"properties\": {\n        \"dtype\": \"number\",\n        \"std\": 38.24577870112119,\n        \"min\": 81.81999969482422,\n        \"max\": 242.05999755859375,\n        \"num_unique_values\": 1216,\n        \"samples\": [\n          86.08000183105469,\n          184.80299377441406,\n          156.04150390625\n        ],\n        \"semantic_type\": \"\",\n        \"description\": \"\"\n      }\n    },\n    {\n      \"column\": [\n        \"Close(t-3)\",\n        \"\"\n      ],\n      \"properties\": {\n        \"dtype\": \"number\",\n        \"std\": 38.19545292609394,\n        \"min\": 81.81999969482422,\n        \"max\": 242.05999755859375,\n        \"num_unique_values\": 1216,\n        \"samples\": [\n          83.12000274658203,\n          177.4499969482422,\n          155.7104949951172\n        ],\n        \"semantic_type\": \"\",\n        \"description\": \"\"\n      }\n    },\n    {\n      \"column\": [\n        \"Close(t-4)\",\n        \"\"\n      ],\n      \"properties\": {\n        \"dtype\": \"number\",\n        \"std\": 38.146568704990244,\n        \"min\": 81.81999969482422,\n        \"max\": 242.05999755859375,\n        \"num_unique_values\": 1215,\n        \"samples\": [\n          142.0800018310547,\n          157.75,\n          155.7104949951172\n        ],\n        \"semantic_type\": \"\",\n        \"description\": \"\"\n      }\n    },\n    {\n      \"column\": [\n        \"Close(t-5)\",\n        \"\"\n      ],\n      \"properties\": {\n        \"dtype\": \"number\",\n        \"std\": 38.100500629715114,\n        \"min\": 81.81999969482422,\n        \"max\": 242.05999755859375,\n        \"num_unique_values\": 1215,\n        \"samples\": [\n          142.7100067138672,\n          156.8699951171875,\n          159.13499450683594\n        ],\n        \"semantic_type\": \"\",\n        \"description\": \"\"\n      }\n    },\n    {\n      \"column\": [\n        \"Close(t-6)\",\n        \"\"\n      ],\n      \"properties\": {\n        \"dtype\": \"number\",\n        \"std\": 38.058774101278544,\n        \"min\": 81.81999969482422,\n        \"max\": 242.05999755859375,\n        \"num_unique_values\": 1215,\n        \"samples\": [\n          139.74000549316406,\n          156.02000427246094,\n          158.10800170898438\n        ],\n        \"semantic_type\": \"\",\n        \"description\": \"\"\n      }\n    },\n    {\n      \"column\": [\n        \"Close(t-7)\",\n        \"\"\n      ],\n      \"properties\": {\n        \"dtype\": \"number\",\n        \"std\": 38.02142435176586,\n        \"min\": 81.81999969482422,\n        \"max\": 242.05999755859375,\n        \"num_unique_values\": 1215,\n        \"samples\": [\n          138.60000610351562,\n          154.77999877929688,\n          156.91900634765625\n        ],\n        \"semantic_type\": \"\",\n        \"description\": \"\"\n      }\n    }\n  ]\n}"
            }
          },
          "metadata": {},
          "execution_count": 10
        }
      ]
    },
    {
      "cell_type": "code",
      "source": [
        "shifted_df_as_np = shifted_df.to_numpy()\n",
        "shifted_df_as_np"
      ],
      "metadata": {
        "colab": {
          "base_uri": "https://localhost:8080/"
        },
        "id": "yWcD1tHjfAU-",
        "outputId": "ac63aa26-1843-4175-8f1d-1de06a5641bb"
      },
      "id": "yWcD1tHjfAU-",
      "execution_count": 11,
      "outputs": [
        {
          "output_type": "execute_result",
          "data": {
            "text/plain": [
              "array([[156.86950684, 151.75100708, 157.18699646, ..., 162.05799866,\n",
              "        152.42050171, 150.22399902],\n",
              "       [155.51400757, 156.86950684, 151.75100708, ..., 166.1000061 ,\n",
              "        162.05799866, 152.42050171],\n",
              "       [156.44050598, 155.51400757, 156.86950684, ..., 165.5684967 ,\n",
              "        166.1000061 , 162.05799866],\n",
              "       ...,\n",
              "       [230.30000305, 229.25      , 226.97000122, ..., 217.94999695,\n",
              "        222.02999878, 216.47999573],\n",
              "       [222.86000061, 230.30000305, 229.25      , ..., 221.08999634,\n",
              "        217.94999695, 222.02999878],\n",
              "       [244.22000122, 222.86000061, 230.30000305, ..., 224.21000671,\n",
              "        221.08999634, 217.94999695]])"
            ]
          },
          "metadata": {},
          "execution_count": 11
        }
      ]
    },
    {
      "cell_type": "code",
      "source": [
        "shifted_df_as_np.shape"
      ],
      "metadata": {
        "colab": {
          "base_uri": "https://localhost:8080/"
        },
        "id": "Pq2p3opGELA_",
        "outputId": "d3b10f66-a4ba-4c29-c38f-85caef2a20dd"
      },
      "id": "Pq2p3opGELA_",
      "execution_count": 12,
      "outputs": [
        {
          "output_type": "execute_result",
          "data": {
            "text/plain": [
              "(1249, 8)"
            ]
          },
          "metadata": {},
          "execution_count": 12
        }
      ]
    },
    {
      "cell_type": "code",
      "source": [
        "from sklearn.preprocessing import MinMaxScaler\n",
        "scaler = MinMaxScaler(feature_range=(-1, 1))\n",
        "shifted_df_as_np = scaler.fit_transform(shifted_df_as_np)\n",
        "\n",
        "shifted_df_as_np"
      ],
      "metadata": {
        "colab": {
          "base_uri": "https://localhost:8080/"
        },
        "id": "pXHkuFeafNUU",
        "outputId": "9ef9286c-aa9a-4e09-f51e-8d301b7bb09f"
      },
      "id": "pXHkuFeafNUU",
      "execution_count": 13,
      "outputs": [
        {
          "output_type": "execute_result",
          "data": {
            "text/plain": [
              "array([[-0.07574499, -0.12717164, -0.05932354, ...,  0.00147279,\n",
              "        -0.11881549, -0.14623065],\n",
              "       [-0.09243834, -0.06328622, -0.12717164, ...,  0.05192221,\n",
              "         0.00147279, -0.11881549],\n",
              "       [-0.08102826, -0.08020458, -0.06328622, ...,  0.04528829,\n",
              "         0.05192221,  0.00147279],\n",
              "       ...,\n",
              "       [ 0.82857145,  0.84011486,  0.81165756, ...,  0.69907637,\n",
              "         0.75000001,  0.68072888],\n",
              "       [ 0.73694581,  0.85322024,  0.84011486, ...,  0.73826758,\n",
              "         0.69907637,  0.75000001],\n",
              "       [ 1.        ,  0.7603595 ,  0.85322024, ...,  0.7772093 ,\n",
              "         0.73826758,  0.69907637]])"
            ]
          },
          "metadata": {},
          "execution_count": 13
        }
      ]
    },
    {
      "cell_type": "code",
      "source": [
        "X = shifted_df_as_np[:, 1:]\n",
        "y = shifted_df_as_np[:, 0]\n",
        "\n",
        "X.shape, y.shape"
      ],
      "metadata": {
        "colab": {
          "base_uri": "https://localhost:8080/"
        },
        "id": "Iui9unuTfxOe",
        "outputId": "5fd7f8fc-c199-470e-df8a-09c3dbd3200c"
      },
      "id": "Iui9unuTfxOe",
      "execution_count": 14,
      "outputs": [
        {
          "output_type": "execute_result",
          "data": {
            "text/plain": [
              "((1249, 7), (1249,))"
            ]
          },
          "metadata": {},
          "execution_count": 14
        }
      ]
    },
    {
      "cell_type": "code",
      "source": [
        "X = dc(np.flip(X, axis=1))\n",
        "X"
      ],
      "metadata": {
        "colab": {
          "base_uri": "https://localhost:8080/"
        },
        "id": "XmbIqwj-E0cv",
        "outputId": "53fb8d3f-ef7c-4b58-d712-3ecd112f74d5"
      },
      "id": "XmbIqwj-E0cv",
      "execution_count": 15,
      "outputs": [
        {
          "output_type": "execute_result",
          "data": {
            "text/plain": [
              "array([[-0.14623065, -0.11881549,  0.00147279, ...,  0.04528829,\n",
              "        -0.05932354, -0.12717164],\n",
              "       [-0.11881549,  0.00147279,  0.05192221, ..., -0.05932354,\n",
              "        -0.12717164, -0.06328622],\n",
              "       [ 0.00147279,  0.05192221,  0.04528829, ..., -0.12717164,\n",
              "        -0.06328622, -0.08020458],\n",
              "       ...,\n",
              "       [ 0.68072888,  0.75000001,  0.69907637, ...,  0.7772093 ,\n",
              "         0.81165756,  0.84011486],\n",
              "       [ 0.75000001,  0.69907637,  0.73826758, ...,  0.81165756,\n",
              "         0.84011486,  0.85322024],\n",
              "       [ 0.69907637,  0.73826758,  0.7772093 , ...,  0.84011486,\n",
              "         0.85322024,  0.7603595 ]])"
            ]
          },
          "metadata": {},
          "execution_count": 15
        }
      ]
    },
    {
      "cell_type": "code",
      "source": [
        "split_index = int(len(X) * 0.95)\n",
        "\n",
        "split_index"
      ],
      "metadata": {
        "colab": {
          "base_uri": "https://localhost:8080/"
        },
        "id": "GCHslawXgE21",
        "outputId": "94a43519-ba3f-4141-baed-85a380b64c6f"
      },
      "id": "GCHslawXgE21",
      "execution_count": 16,
      "outputs": [
        {
          "output_type": "execute_result",
          "data": {
            "text/plain": [
              "1186"
            ]
          },
          "metadata": {},
          "execution_count": 16
        }
      ]
    },
    {
      "cell_type": "code",
      "source": [
        "X_train = X[:split_index]\n",
        "X_test = X[split_index:]\n",
        "\n",
        "y_train = y[:split_index]\n",
        "y_test = y[split_index:]\n",
        "\n",
        "X_train.shape, X_test.shape, y_train.shape, y_test.shape"
      ],
      "metadata": {
        "colab": {
          "base_uri": "https://localhost:8080/"
        },
        "id": "hhGMh_nAgiST",
        "outputId": "90ca1991-7162-415a-e5ee-5a313b9921b8"
      },
      "id": "hhGMh_nAgiST",
      "execution_count": 17,
      "outputs": [
        {
          "output_type": "execute_result",
          "data": {
            "text/plain": [
              "((1186, 7), (63, 7), (1186,), (63,))"
            ]
          },
          "metadata": {},
          "execution_count": 17
        }
      ]
    },
    {
      "cell_type": "code",
      "source": [
        "X_train = X_train.reshape((-1, lookback, 1))\n",
        "X_test = X_test.reshape((-1, lookback, 1))\n",
        "\n",
        "y_train = y_train.reshape((-1, 1))\n",
        "y_test = y_test.reshape((-1, 1))\n",
        "\n",
        "X_train.shape, X_test.shape, y_train.shape, y_test.shape"
      ],
      "metadata": {
        "colab": {
          "base_uri": "https://localhost:8080/"
        },
        "id": "Muqs9hKYhMUS",
        "outputId": "fc20f266-16b9-4ecb-9d5c-024be3a0dc73"
      },
      "id": "Muqs9hKYhMUS",
      "execution_count": 18,
      "outputs": [
        {
          "output_type": "execute_result",
          "data": {
            "text/plain": [
              "((1186, 7, 1), (63, 7, 1), (1186, 1), (63, 1))"
            ]
          },
          "metadata": {},
          "execution_count": 18
        }
      ]
    },
    {
      "cell_type": "code",
      "source": [
        "X_train = torch.tensor(X_train).float()\n",
        "y_train = torch.tensor(y_train).float()\n",
        "X_test = torch.tensor(X_test).float()\n",
        "y_test = torch.tensor(y_test).float()\n",
        "\n",
        "X_train.shape, X_test.shape, y_train.shape, y_test.shape"
      ],
      "metadata": {
        "colab": {
          "base_uri": "https://localhost:8080/"
        },
        "id": "i7-PBcrMhR7z",
        "outputId": "f06b3652-534a-4ef2-89cd-2c2af5641457"
      },
      "id": "i7-PBcrMhR7z",
      "execution_count": 19,
      "outputs": [
        {
          "output_type": "execute_result",
          "data": {
            "text/plain": [
              "(torch.Size([1186, 7, 1]),\n",
              " torch.Size([63, 7, 1]),\n",
              " torch.Size([1186, 1]),\n",
              " torch.Size([63, 1]))"
            ]
          },
          "metadata": {},
          "execution_count": 19
        }
      ]
    },
    {
      "cell_type": "code",
      "source": [
        "from torch.utils.data import Dataset\n",
        "\n",
        "class TimeSeriesDataset(Dataset):\n",
        "    def __init__(self, X, y):\n",
        "        self.X = X\n",
        "        self.y = y\n",
        "\n",
        "    def __len__(self):\n",
        "        return len(self.X)\n",
        "\n",
        "    def __getitem__(self, i):\n",
        "        return self.X[i], self.y[i]\n",
        "\n",
        "train_dataset = TimeSeriesDataset(X_train, y_train)\n",
        "test_dataset = TimeSeriesDataset(X_test, y_test)"
      ],
      "metadata": {
        "id": "DWutCAGKhdqU"
      },
      "id": "DWutCAGKhdqU",
      "execution_count": 20,
      "outputs": []
    },
    {
      "cell_type": "code",
      "source": [
        "train_dataset"
      ],
      "metadata": {
        "colab": {
          "base_uri": "https://localhost:8080/"
        },
        "id": "12OWUTa5ijoq",
        "outputId": "a2eb9608-78c6-4e48-f9d8-e16d58629db2"
      },
      "id": "12OWUTa5ijoq",
      "execution_count": 21,
      "outputs": [
        {
          "output_type": "execute_result",
          "data": {
            "text/plain": [
              "<__main__.TimeSeriesDataset at 0x7c8c49e48560>"
            ]
          },
          "metadata": {},
          "execution_count": 21
        }
      ]
    },
    {
      "cell_type": "code",
      "source": [
        "from torch.utils.data import DataLoader\n",
        "\n",
        "batch_size = 16\n",
        "\n",
        "train_loader = DataLoader(train_dataset, batch_size=batch_size, shuffle=True)\n",
        "\n",
        "test_loader = DataLoader(test_dataset, batch_size=batch_size, shuffle=False)"
      ],
      "metadata": {
        "id": "XYsUmPl3ik46"
      },
      "id": "XYsUmPl3ik46",
      "execution_count": 22,
      "outputs": []
    },
    {
      "cell_type": "code",
      "source": [
        "for _, batch in enumerate(train_loader):\n",
        "    x_batch, y_batch = batch[0].to(device), batch[1].to(device)\n",
        "    print(x_batch.shape, y_batch.shape)\n",
        "    break"
      ],
      "metadata": {
        "colab": {
          "base_uri": "https://localhost:8080/"
        },
        "id": "TJTnbgBDjOSK",
        "outputId": "fecac37a-ff27-4d59-cd50-797424d83bac"
      },
      "id": "TJTnbgBDjOSK",
      "execution_count": 23,
      "outputs": [
        {
          "output_type": "stream",
          "name": "stdout",
          "text": [
            "torch.Size([16, 7, 1]) torch.Size([16, 1])\n"
          ]
        }
      ]
    },
    {
      "cell_type": "code",
      "source": [
        "import torch\n",
        "import torch.nn as nn\n",
        "\n",
        "class RNN(nn.Module):\n",
        "    def __init__(self, input_size, hidden_size, num_stacked_layers):\n",
        "        super().__init__()\n",
        "        self.hidden_size = hidden_size\n",
        "        self.num_stacked_layers = num_stacked_layers\n",
        "        self.rnn = nn.RNN(input_size, hidden_size, num_stacked_layers, batch_first=True)\n",
        "        self.fc = nn.Linear(hidden_size, 1)\n",
        "\n",
        "    def forward(self, x):\n",
        "        batch_size = x.size(0)\n",
        "        h0 = torch.zeros(self.num_stacked_layers, batch_size, self.hidden_size).to(device)\n",
        "        out, _ = self.rnn(x, h0)\n",
        "        out = self.fc(out[:, -1, :])\n",
        "        return out\n",
        "\n",
        "model_rnn = RNN(1, 4, 1)\n",
        "model_rnn.to(device)"
      ],
      "metadata": {
        "colab": {
          "base_uri": "https://localhost:8080/"
        },
        "id": "zJrwRJl0M1zY",
        "outputId": "2dd56453-2878-44ba-8ed4-c3362f3e3196"
      },
      "id": "zJrwRJl0M1zY",
      "execution_count": 24,
      "outputs": [
        {
          "output_type": "execute_result",
          "data": {
            "text/plain": [
              "RNN(\n",
              "  (rnn): RNN(1, 4, batch_first=True)\n",
              "  (fc): Linear(in_features=4, out_features=1, bias=True)\n",
              ")"
            ]
          },
          "metadata": {},
          "execution_count": 24
        }
      ]
    },
    {
      "cell_type": "code",
      "source": [
        "def train_one_epoch():\n",
        "    model_rnn.train(True)\n",
        "    print(f'Epoch: {epoch + 1}')\n",
        "    running_loss = 0.0\n",
        "\n",
        "    for batch_index, batch in enumerate(train_loader):\n",
        "        x_batch, y_batch = batch[0].to(device), batch[1].to(device)\n",
        "        output = model_rnn(x_batch)\n",
        "        loss = loss_function(output, y_batch)\n",
        "        running_loss += loss.item()\n",
        "        optimizer.zero_grad()\n",
        "        loss.backward()\n",
        "        optimizer.step()\n",
        "\n",
        "        if batch_index % 100 == 99:\n",
        "            avg_loss_across_batches = running_loss / 100\n",
        "            print('Batch {0}, Loss: {1:.3f}'.format(batch_index+1, avg_loss_across_batches))\n",
        "            running_loss = 0.0\n",
        "    print()\n"
      ],
      "metadata": {
        "id": "t7SocgRENApI"
      },
      "id": "t7SocgRENApI",
      "execution_count": 25,
      "outputs": []
    },
    {
      "cell_type": "code",
      "source": [
        "def validate_one_epoch():\n",
        "    model_rnn.train(False)\n",
        "    running_loss = 0.0\n",
        "\n",
        "    for batch_index, batch in enumerate(test_loader):\n",
        "        x_batch, y_batch = batch[0].to(device), batch[1].to(device)\n",
        "        with torch.no_grad():\n",
        "            output = model_rnn(x_batch)\n",
        "            loss = loss_function(output, y_batch)\n",
        "            running_loss += loss.item()\n",
        "    avg_loss_across_batches = running_loss / len(test_loader)\n",
        "\n",
        "    print('Val Loss: {0:.3f}'.format(avg_loss_across_batches))\n",
        "\n",
        "    print('***************************************************')\n",
        "    print()\n"
      ],
      "metadata": {
        "id": "4PhIhYfBNH1P"
      },
      "id": "4PhIhYfBNH1P",
      "execution_count": 26,
      "outputs": []
    },
    {
      "cell_type": "code",
      "source": [
        "learning_rate = 0.001\n",
        "\n",
        "num_epochs = 50\n",
        "\n",
        "loss_function = nn.MSELoss()\n",
        "\n",
        "optimizer = torch.optim.Adam(model_rnn.parameters(), lr=learning_rate)\n",
        "\n",
        "for epoch in range(num_epochs):\n",
        "    train_one_epoch()\n",
        "    validate_one_epoch()\n"
      ],
      "metadata": {
        "colab": {
          "base_uri": "https://localhost:8080/"
        },
        "id": "JBQWOxR3NN_L",
        "outputId": "ea506936-818f-4602-ac24-bf4bc4c7b521"
      },
      "id": "JBQWOxR3NN_L",
      "execution_count": 27,
      "outputs": [
        {
          "output_type": "stream",
          "name": "stdout",
          "text": [
            "Epoch: 1\n",
            "\n",
            "Val Loss: 0.389\n",
            "***************************************************\n",
            "\n",
            "Epoch: 2\n",
            "\n",
            "Val Loss: 0.435\n",
            "***************************************************\n",
            "\n",
            "Epoch: 3\n",
            "\n",
            "Val Loss: 0.238\n",
            "***************************************************\n",
            "\n",
            "Epoch: 4\n",
            "\n",
            "Val Loss: 0.055\n",
            "***************************************************\n",
            "\n",
            "Epoch: 5\n",
            "\n",
            "Val Loss: 0.045\n",
            "***************************************************\n",
            "\n",
            "Epoch: 6\n",
            "\n",
            "Val Loss: 0.048\n",
            "***************************************************\n",
            "\n",
            "Epoch: 7\n",
            "\n",
            "Val Loss: 0.037\n",
            "***************************************************\n",
            "\n",
            "Epoch: 8\n",
            "\n",
            "Val Loss: 0.036\n",
            "***************************************************\n",
            "\n",
            "Epoch: 9\n",
            "\n",
            "Val Loss: 0.031\n",
            "***************************************************\n",
            "\n",
            "Epoch: 10\n",
            "\n",
            "Val Loss: 0.026\n",
            "***************************************************\n",
            "\n",
            "Epoch: 11\n",
            "\n",
            "Val Loss: 0.029\n",
            "***************************************************\n",
            "\n",
            "Epoch: 12\n",
            "\n",
            "Val Loss: 0.026\n",
            "***************************************************\n",
            "\n",
            "Epoch: 13\n",
            "\n",
            "Val Loss: 0.021\n",
            "***************************************************\n",
            "\n",
            "Epoch: 14\n",
            "\n",
            "Val Loss: 0.022\n",
            "***************************************************\n",
            "\n",
            "Epoch: 15\n",
            "\n",
            "Val Loss: 0.020\n",
            "***************************************************\n",
            "\n",
            "Epoch: 16\n",
            "\n",
            "Val Loss: 0.022\n",
            "***************************************************\n",
            "\n",
            "Epoch: 17\n",
            "\n",
            "Val Loss: 0.021\n",
            "***************************************************\n",
            "\n",
            "Epoch: 18\n",
            "\n",
            "Val Loss: 0.022\n",
            "***************************************************\n",
            "\n",
            "Epoch: 19\n",
            "\n",
            "Val Loss: 0.018\n",
            "***************************************************\n",
            "\n",
            "Epoch: 20\n",
            "\n",
            "Val Loss: 0.022\n",
            "***************************************************\n",
            "\n",
            "Epoch: 21\n",
            "\n",
            "Val Loss: 0.015\n",
            "***************************************************\n",
            "\n",
            "Epoch: 22\n",
            "\n",
            "Val Loss: 0.016\n",
            "***************************************************\n",
            "\n",
            "Epoch: 23\n",
            "\n",
            "Val Loss: 0.014\n",
            "***************************************************\n",
            "\n",
            "Epoch: 24\n",
            "\n",
            "Val Loss: 0.012\n",
            "***************************************************\n",
            "\n",
            "Epoch: 25\n",
            "\n",
            "Val Loss: 0.010\n",
            "***************************************************\n",
            "\n",
            "Epoch: 26\n",
            "\n",
            "Val Loss: 0.009\n",
            "***************************************************\n",
            "\n",
            "Epoch: 27\n",
            "\n",
            "Val Loss: 0.007\n",
            "***************************************************\n",
            "\n",
            "Epoch: 28\n",
            "\n",
            "Val Loss: 0.008\n",
            "***************************************************\n",
            "\n",
            "Epoch: 29\n",
            "\n",
            "Val Loss: 0.007\n",
            "***************************************************\n",
            "\n",
            "Epoch: 30\n",
            "\n",
            "Val Loss: 0.007\n",
            "***************************************************\n",
            "\n",
            "Epoch: 31\n",
            "\n",
            "Val Loss: 0.007\n",
            "***************************************************\n",
            "\n",
            "Epoch: 32\n",
            "\n",
            "Val Loss: 0.006\n",
            "***************************************************\n",
            "\n",
            "Epoch: 33\n",
            "\n",
            "Val Loss: 0.005\n",
            "***************************************************\n",
            "\n",
            "Epoch: 34\n",
            "\n",
            "Val Loss: 0.005\n",
            "***************************************************\n",
            "\n",
            "Epoch: 35\n",
            "\n",
            "Val Loss: 0.005\n",
            "***************************************************\n",
            "\n",
            "Epoch: 36\n",
            "\n",
            "Val Loss: 0.005\n",
            "***************************************************\n",
            "\n",
            "Epoch: 37\n",
            "\n",
            "Val Loss: 0.005\n",
            "***************************************************\n",
            "\n",
            "Epoch: 38\n",
            "\n",
            "Val Loss: 0.005\n",
            "***************************************************\n",
            "\n",
            "Epoch: 39\n",
            "\n",
            "Val Loss: 0.004\n",
            "***************************************************\n",
            "\n",
            "Epoch: 40\n",
            "\n",
            "Val Loss: 0.005\n",
            "***************************************************\n",
            "\n",
            "Epoch: 41\n",
            "\n",
            "Val Loss: 0.005\n",
            "***************************************************\n",
            "\n",
            "Epoch: 42\n",
            "\n",
            "Val Loss: 0.005\n",
            "***************************************************\n",
            "\n",
            "Epoch: 43\n",
            "\n",
            "Val Loss: 0.005\n",
            "***************************************************\n",
            "\n",
            "Epoch: 44\n",
            "\n",
            "Val Loss: 0.004\n",
            "***************************************************\n",
            "\n",
            "Epoch: 45\n",
            "\n",
            "Val Loss: 0.004\n",
            "***************************************************\n",
            "\n",
            "Epoch: 46\n",
            "\n",
            "Val Loss: 0.004\n",
            "***************************************************\n",
            "\n",
            "Epoch: 47\n",
            "\n",
            "Val Loss: 0.004\n",
            "***************************************************\n",
            "\n",
            "Epoch: 48\n",
            "\n",
            "Val Loss: 0.004\n",
            "***************************************************\n",
            "\n",
            "Epoch: 49\n",
            "\n",
            "Val Loss: 0.004\n",
            "***************************************************\n",
            "\n",
            "Epoch: 50\n",
            "\n",
            "Val Loss: 0.004\n",
            "***************************************************\n",
            "\n"
          ]
        }
      ]
    },
    {
      "cell_type": "code",
      "source": [
        "with torch.no_grad():\n",
        "    predicted_rnn = model_rnn(X_train.to(device)).to('cpu').numpy()\n",
        "\n",
        "plt.plot(y_train, label='Actual Close')\n",
        "plt.plot(predicted_rnn, label='Predicted Close')\n",
        "\n",
        "plt.xlabel('Day')\n",
        "plt.ylabel('Close')\n",
        "\n",
        "plt.legend()\n",
        "\n",
        "plt.show()\n"
      ],
      "metadata": {
        "colab": {
          "base_uri": "https://localhost:8080/",
          "height": 449
        },
        "id": "xattNQ9ANozG",
        "outputId": "e65bb674-8a91-4249-9f5e-150ccdfdda2b"
      },
      "id": "xattNQ9ANozG",
      "execution_count": 28,
      "outputs": [
        {
          "output_type": "display_data",
          "data": {
            "text/plain": [
              "<Figure size 640x480 with 1 Axes>"
            ],
            "image/png": "[encoded data removed]"
          },
          "metadata": {}
        }
      ]
    },
    {
      "cell_type": "code",
      "source": [
        "train_predictions_rnn = predicted_rnn.flatten()\n",
        "\n",
        "dummies = np.zeros((X_train.shape[0], lookback+1))\n",
        "\n",
        "dummies[:, 0] = train_predictions_rnn\n",
        "\n",
        "dummies = scaler.inverse_transform(dummies)\n",
        "\n",
        "train_predictions_rnn = dc(dummies[:, 0])\n",
        "\n",
        "train_predictions_rnn"
      ],
      "metadata": {
        "colab": {
          "base_uri": "https://localhost:8080/"
        },
        "id": "uzYvGja4N3zl",
        "outputId": "815390a3-99ce-4d42-fe89-3fd0ca8a18a5"
      },
      "id": "uzYvGja4N3zl",
      "execution_count": 29,
      "outputs": [
        {
          "output_type": "execute_result",
          "data": {
            "text/plain": [
              "array([154.24520512, 159.60632991, 157.92299219, ..., 227.36392668,\n",
              "       230.41480428, 215.5944873 ])"
            ]
          },
          "metadata": {},
          "execution_count": 29
        }
      ]
    },
    {
      "cell_type": "code",
      "source": [
        "dummies = np.zeros((X_train.shape[0], lookback+1))\n",
        "\n",
        "dummies[:, 0] = y_train.flatten()\n",
        "\n",
        "dummies = scaler.inverse_transform(dummies)\n",
        "\n",
        "new_y_train_rnn = dc(dummies[:, 0])\n",
        "\n",
        "new_y_train_rnn\n"
      ],
      "metadata": {
        "colab": {
          "base_uri": "https://localhost:8080/"
        },
        "id": "IsdGVjvkOKS5",
        "outputId": "e7c2e96f-5ab3-4f0a-ac2c-30300d4a915d"
      },
      "id": "IsdGVjvkOKS5",
      "execution_count": 30,
      "outputs": [
        {
          "output_type": "stream",
          "name": "stderr",
          "text": [
            "/tmp/ipython-input-2337536201.py:3: DeprecationWarning: __array__ implementation doesn't accept a copy keyword, so passing copy=False failed. __array__ must implement 'dtype' and 'copy' keyword arguments.\n",
            "  dummies[:, 0] = y_train.flatten()\n"
          ]
        },
        {
          "output_type": "execute_result",
          "data": {
            "text/plain": [
              "array([156.86950689, 155.51400777, 156.44050627, ..., 234.11000288,\n",
              "       214.74999784, 211.64999528])"
            ]
          },
          "metadata": {},
          "execution_count": 30
        }
      ]
    },
    {
      "cell_type": "markdown",
      "source": [
        "# Plotting the actual vs. predicted values for visualization"
      ],
      "metadata": {
        "id": "PCx7-Ra6tBL4"
      },
      "id": "PCx7-Ra6tBL4"
    },
    {
      "cell_type": "code",
      "source": [
        "plt.plot(new_y_train_rnn, label='Actual Close')\n",
        "\n",
        "plt.plot(train_predictions_rnn, label='Predicted Close')\n",
        "\n",
        "plt.xlabel('Day')\n",
        "\n",
        "plt.ylabel('Close')\n",
        "\n",
        "plt.legend()\n",
        "\n",
        "plt.show()\n"
      ],
      "metadata": {
        "colab": {
          "base_uri": "https://localhost:8080/",
          "height": 449
        },
        "id": "EHd1kMv4OTcq",
        "outputId": "88c50d86-5317-47ef-8132-371bc2a8a84f"
      },
      "id": "EHd1kMv4OTcq",
      "execution_count": 31,
      "outputs": [
        {
          "output_type": "display_data",
          "data": {
            "text/plain": [
              "<Figure size 640x480 with 1 Axes>"
            ],
            "image/png": "[encoded data removed]"
          },
          "metadata": {}
        }
      ]
    },
    {
      "cell_type": "markdown",
      "source": [
        "# Generating predictions for the test dataset using the trained RNN model\n"
      ],
      "metadata": {
        "id": "IeD7MSUCtDXJ"
      },
      "id": "IeD7MSUCtDXJ"
    },
    {
      "cell_type": "code",
      "source": [
        "test_predictions_rnn = model_rnn(X_test.to(device)).detach().cpu().numpy().flatten()\n",
        "\n",
        "dummies = np.zeros((X_test.shape[0], lookback+1))\n",
        "\n",
        "dummies[:, 0] = test_predictions_rnn\n",
        "\n",
        "dummies = scaler.inverse_transform(dummies)\n",
        "\n",
        "test_predictions_rnn = dc(dummies[:, 0])\n",
        "\n",
        "test_predictions_rnn"
      ],
      "metadata": {
        "colab": {
          "base_uri": "https://localhost:8080/"
        },
        "id": "wqNmMQBBOjYt",
        "outputId": "c26674da-f266-4ae2-e69e-e638e3a081bc"
      },
      "id": "wqNmMQBBOjYt",
      "execution_count": 32,
      "outputs": [
        {
          "output_type": "execute_result",
          "data": {
            "text/plain": [
              "array([214.75712217, 216.70016666, 222.26688574, 221.77706395,\n",
              "       220.98273034, 219.7671224 , 220.2048669 , 222.83672072,\n",
              "       227.53501221, 227.13740497, 227.58338214, 225.27407359,\n",
              "       222.58179365, 221.74792776, 227.01529437, 225.62147657,\n",
              "       226.051545  , 226.34582043, 228.08716704, 226.16985144,\n",
              "       223.7832207 , 224.64304779, 231.60554967, 228.43481686,\n",
              "       231.15192546, 232.84908866, 226.97367125, 227.5815817 ,\n",
              "       226.50281701, 228.80748894, 230.45005809, 228.28999745,\n",
              "       228.11519004, 228.4168802 , 225.57047373, 220.73797674,\n",
              "       220.8922533 , 219.10978692, 220.17059559, 221.56648002,\n",
              "       219.00749085, 219.87499403, 221.19271412, 218.78514597,\n",
              "       220.19412233, 220.81282091, 223.24361088, 224.95856069,\n",
              "       216.15556207, 220.06541978, 217.07692362, 216.46897445,\n",
              "       215.71419732, 214.29973252, 216.76463409, 220.66040286,\n",
              "       216.91904617, 219.77395633, 222.12764674, 224.02412658,\n",
              "       225.84337134, 226.68388725, 221.22383466])"
            ]
          },
          "metadata": {},
          "execution_count": 32
        }
      ]
    },
    {
      "cell_type": "markdown",
      "source": [
        "# Preparing the actual y_test values (target labels) for comparison with model predictions"
      ],
      "metadata": {
        "id": "lOIZFffjtW7Q"
      },
      "id": "lOIZFffjtW7Q"
    },
    {
      "cell_type": "code",
      "source": [
        "dummies = np.zeros((X_test.shape[0], lookback+1))\n",
        "\n",
        "dummies[:, 0] = y_test.flatten()\n",
        "\n",
        "dummies = scaler.inverse_transform(dummies)\n",
        "\n",
        "new_y_test_rnn = dc(dummies[:, 0])\n",
        "\n",
        "new_y_test_rnn"
      ],
      "metadata": {
        "colab": {
          "base_uri": "https://localhost:8080/"
        },
        "id": "lrfLfwxiOwz4",
        "outputId": "2fde28c8-f0b0-4f2a-ddb2-013496762e2e"
      },
      "id": "lrfLfwxiOwz4",
      "execution_count": 33,
      "outputs": [
        {
          "output_type": "stream",
          "name": "stderr",
          "text": [
            "/tmp/ipython-input-2715475211.py:3: DeprecationWarning: __array__ implementation doesn't accept a copy keyword, so passing copy=False failed. __array__ must implement 'dtype' and 'copy' keyword arguments.\n",
            "  dummies[:, 0] = y_test.flatten()\n"
          ]
        },
        {
          "output_type": "execute_result",
          "data": {
            "text/plain": [
              "array([213.74999764, 222.30999955, 223.13000397, 222.69000407,\n",
              "       221.30000496, 221.47000151, 224.55999516, 230.9799978 ,\n",
              "       231.02999877, 231.4900068 , 228.00999488, 223.80999985,\n",
              "       221.94999831, 228.83999853, 227.94000029, 228.71000857,\n",
              "       229.11999626, 231.60000799, 229.00000069, 225.33999783,\n",
              "       225.9900057 , 235.67999293, 232.33      , 235.83999509,\n",
              "       238.24000332, 230.3299996 , 229.94999507, 228.14999375,\n",
              "       231.42999208, 234.05000267, 231.61999676, 231.22999785,\n",
              "       231.4799979 , 227.63000487, 220.71000697, 220.21000687,\n",
              "       218.14999174, 219.77999652, 222.16999584, 219.5700079 ,\n",
              "       220.63000347, 222.4100015 , 219.50999318, 220.89999229,\n",
              "       221.77999692, 225.22000226, 227.74000605, 216.36999371,\n",
              "       220.070008  , 216.38999701, 215.5700071 , 214.47000011,\n",
              "       213.0399944 , 216.47999489, 222.02999697, 217.94999751,\n",
              "       221.08999698, 224.21000767, 226.97000261, 229.25000074,\n",
              "       230.30000192, 222.86000062, 244.22000122])"
            ]
          },
          "metadata": {},
          "execution_count": 33
        }
      ]
    },
    {
      "cell_type": "markdown",
      "source": [
        "# Plotting the actual vs. predicted values for the test dataset"
      ],
      "metadata": {
        "id": "JCf_V6XWtjEJ"
      },
      "id": "JCf_V6XWtjEJ"
    },
    {
      "cell_type": "code",
      "source": [
        "plt.plot(new_y_test_rnn, label='Actual Close')\n",
        "\n",
        "plt.plot(test_predictions_rnn, label='Predicted Close')\n",
        "\n",
        "plt.xlabel('Day')\n",
        "plt.ylabel('Close')\n",
        "\n",
        "plt.legend()\n",
        "\n",
        "plt.show()\n"
      ],
      "metadata": {
        "colab": {
          "base_uri": "https://localhost:8080/",
          "height": 449
        },
        "id": "n_Mko5B0O92v",
        "outputId": "a37afc4a-6b1f-49de-ae13-40b3cf62932c"
      },
      "id": "n_Mko5B0O92v",
      "execution_count": 34,
      "outputs": [
        {
          "output_type": "display_data",
          "data": {
            "text/plain": [
              "<Figure size 640x480 with 1 Axes>"
            ],
            "image/png": "[encoded data removed]"
          },
          "metadata": {}
        }
      ]
    },
    {
      "cell_type": "markdown",
      "source": [
        "\n",
        "\n",
        "---\n",
        "\n",
        "\n",
        "\n",
        "---\n",
        "\n"
      ],
      "metadata": {
        "id": "Oar-2TXd-FPp"
      },
      "id": "Oar-2TXd-FPp"
    }
  ],
  "metadata": {
    "kernelspec": {
      "display_name": "Python 3",
      "name": "python3"
    },
    "language_info": {
      "name": "python"
    },
    "colab": {
      "provenance": []
    }
  },
  "nbformat": 4,
  "nbformat_minor": 5
}